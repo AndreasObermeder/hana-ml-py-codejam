{
 "cells": [
  {
   "attachments": {},
   "cell_type": "markdown",
   "id": "4bcc6ef9",
   "metadata": {},
   "source": [
    "## Check SAP HANA Client for Python is installed"
   ]
  },
  {
   "cell_type": "code",
   "execution_count": 1,
   "id": "c6866fbf-5ca6-45a5-a234-d0ad3db16545",
   "metadata": {},
   "outputs": [
    {
     "name": "stdout",
     "output_type": "stream",
     "text": [
      "SAP HANA Client for Python: 2.17.23062800\n"
     ]
    }
   ],
   "source": [
    "import hana_ml\n",
    "print(f\"SAP HANA Client for Python: {hana_ml.__version__}\")"
   ]
  },
  {
   "attachments": {},
   "cell_type": "markdown",
   "id": "bd79a425",
   "metadata": {},
   "source": [
    "## Load the user connection data and connect to the SAP HANA database instance\n",
    "\n",
    "Before running the next cell make sure [../0x00-setup/user_template.ini](../0x00-setup/user_template.ini) is copied to [../0x00-setup/user.ini](../0x00-setup/user.ini) and the user + password are set appropriately."
   ]
  },
  {
   "cell_type": "code",
   "execution_count": 2,
   "id": "d94aaec7",
   "metadata": {},
   "outputs": [],
   "source": [
    "from hana_ml.algorithms.pal.utility import Settings\n",
    "myhost, myport, myuser, mypwd = Settings.load_config(\"../0x00-setup/user.ini\")"
   ]
  },
  {
   "cell_type": "code",
   "execution_count": 3,
   "id": "33fce6e3",
   "metadata": {},
   "outputs": [
    {
     "name": "stdout",
     "output_type": "stream",
     "text": [
      "Connected to SAP HANA db with version: 4.00.000.00.1688461793 (fa/CE2023.16)\n"
     ]
    }
   ],
   "source": [
    "from hana_ml import dataframe as hdf\n",
    "myconn=hdf.ConnectionContext(\n",
    "    address=myhost, \n",
    "    port=myport, \n",
    "    user=myuser,\n",
    "    password=mypwd\n",
    ")\n",
    "print(f\"Connected to SAP HANA db with version: {myconn.hana_version()}\")"
   ]
  },
  {
   "attachments": {},
   "cell_type": "markdown",
   "id": "0235f6c2",
   "metadata": {},
   "source": [
    "## Execute an SQL query on SAP HANA database and get the result displayed"
   ]
  },
  {
   "cell_type": "code",
   "execution_count": 4,
   "id": "19475af6-6e12-4fb3-8df9-50ce54de9194",
   "metadata": {},
   "outputs": [
    {
     "name": "stdout",
     "output_type": "stream",
     "text": [
      "Current time on the SAP HANA server: 2023-07-07 16:40:43.507000\n"
     ]
    }
   ],
   "source": [
    "print(f'Current time on the SAP HANA server: {myconn.sql(\"SELECT NOW() FROM DUMMY\").collect().CURRENT_TIMESTAMP[0]}')"
   ]
  },
  {
   "cell_type": "code",
   "execution_count": 8,
   "id": "b3357060",
   "metadata": {},
   "outputs": [
    {
     "name": "stdout",
     "output_type": "stream",
     "text": [
      "HANAML_MODEL_STORAGE\n",
      "HANAML_CODEJAM-TITANIC-CLASSIFICATION_2_MODELS_0\n",
      "HANAML_CODEJAM-TITANIC-CLASSIFICATION_2_MODELS_3\n",
      "HANAML_CODEJAM-TITANIC-CLASSIFICATION_2_MODELS_4\n",
      "HANAML_CODEJAM-TITANIC-CLASSIFICATION_2_MODELS_5\n",
      "HANAML_CODEJAM-TITANIC-CLASSIFICATION_2_MODELS_1\n",
      "HANAML_CODEJAM-TITANIC-CLASSIFICATION_2_MODELS_2\n"
     ]
    }
   ],
   "source": [
    "for tab in myconn.get_tables().TABLE_NAME.tolist():\n",
    "    print(tab)"
   ]
  },
  {
   "cell_type": "code",
   "execution_count": 6,
   "id": "2121c101-e114-4bef-a1d9-5e65b5718e1a",
   "metadata": {},
   "outputs": [],
   "source": [
    "for tab in myconn.get_tables().TABLE_NAME.tolist():\n",
    "    myconn.drop_table(table=tab)"
   ]
  },
  {
   "cell_type": "code",
   "execution_count": null,
   "id": "7cded102-c9a3-45f2-bbaa-1118e871ef9d",
   "metadata": {},
   "outputs": [],
   "source": []
  }
 ],
 "metadata": {
  "kernelspec": {
   "display_name": "Python 3 (ipykernel)",
   "language": "python",
   "name": "python3"
  },
  "language_info": {
   "codemirror_mode": {
    "name": "ipython",
    "version": 3
   },
   "file_extension": ".py",
   "mimetype": "text/x-python",
   "name": "python",
   "nbconvert_exporter": "python",
   "pygments_lexer": "ipython3",
   "version": "3.10.12"
  }
 },
 "nbformat": 4,
 "nbformat_minor": 5
}
