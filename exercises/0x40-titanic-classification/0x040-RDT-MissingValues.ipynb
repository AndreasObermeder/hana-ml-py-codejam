{
 "cells": [
  {
   "attachments": {},
   "cell_type": "markdown",
   "id": "8428095a",
   "metadata": {},
   "source": [
    "# Load the user connection data and connect to the SAP HANA database instance\n",
    "\n",
    "Before running the next cell make sure [../0x00-setup/temp_user.ini](../0x00-setup/temp_user.ini) is copied to [../0x00-setup/user.ini](../0x00-setup/user.ini) and the user + password are set appropriately."
   ]
  },
  {
   "cell_type": "code",
   "execution_count": null,
   "id": "65c2aa83",
   "metadata": {},
   "outputs": [],
   "source": [
    "from hana_ml.algorithms.pal.utility import Settings\n",
    "myhost, myport, myuser, mypwd = Settings.load_config(\"../0x00-setup/user.ini\")"
   ]
  },
  {
   "cell_type": "code",
   "execution_count": null,
   "id": "70dba4e3-79a9-494c-9328-d364886cd953",
   "metadata": {},
   "outputs": [],
   "source": [
    "from hana_ml import dataframe as hdf\n",
    "myconn=hdf.ConnectionContext(\n",
    "    address=myhost, \n",
    "    port=myport, \n",
    "    user=myuser,\n",
    "    password=mypwd\n",
    ")\n",
    "print(f\"Connected to SAP HANA db version {myconn.hana_version()} \\nat {myhost}:{myport} as user {myuser}\")"
   ]
  },
  {
   "cell_type": "code",
   "execution_count": null,
   "id": "db231f74-3386-4d06-be9d-6c2ee664cff7",
   "metadata": {},
   "outputs": [],
   "source": [
    "print(myconn.sql(\"SELECT NOW() FROM DUMMY\").collect().CURRENT_TIMESTAMP[0])"
   ]
  },
  {
   "attachments": {},
   "cell_type": "markdown",
   "id": "5566fc86-761d-419d-92ec-26800979c287",
   "metadata": {},
   "source": [
    "# Tables from SAP HANA"
   ]
  },
  {
   "cell_type": "code",
   "execution_count": null,
   "id": "f1b3cd7c-330d-43d6-a8d7-bcd87d903817",
   "metadata": {},
   "outputs": [],
   "source": [
    "hdf_titanic_train=myconn.table('TRAIN', schema='TITANIC')"
   ]
  },
  {
   "cell_type": "code",
   "execution_count": null,
   "id": "dc6fbe37",
   "metadata": {},
   "outputs": [],
   "source": [
    "hdf_titanic_train.describe().filter(condition='\"nulls\"<>0').collect()"
   ]
  },
  {
   "cell_type": "code",
   "execution_count": null,
   "id": "bed84d4d-b9d2-4379-885a-326330efa422",
   "metadata": {},
   "outputs": [],
   "source": [
    "hdf_titanic_test=myconn.table('TEST', schema='TITANIC')"
   ]
  },
  {
   "cell_type": "code",
   "execution_count": null,
   "id": "db14c7f4-d8d4-45d5-9171-07e617f6ae5b",
   "metadata": {},
   "outputs": [],
   "source": [
    "hdf_titanic_test.describe().filter(condition='\"nulls\"<>0').collect()"
   ]
  },
  {
   "attachments": {},
   "cell_type": "markdown",
   "id": "fcf9d836-dcc2-482c-ac42-71631abe87cc",
   "metadata": {},
   "source": [
    "🤓 **Let's discuss**:\n",
    "- Missing values"
   ]
  },
  {
   "attachments": {},
   "cell_type": "markdown",
   "id": "ad276026",
   "metadata": {},
   "source": [
    "## Imputation in the TRAIN table"
   ]
  },
  {
   "cell_type": "markdown",
   "id": "cfd6d41a",
   "metadata": {},
   "source": [
    "Imputation: https://help.sap.com/doc/cd94b08fe2e041c2ba778374572ddba9/2023_1_QRC/en-US/pal/algorithms/hana_ml.algorithms.pal.preprocessing.Imputer.html#imputer"
   ]
  },
  {
   "cell_type": "code",
   "execution_count": null,
   "id": "74f41e70",
   "metadata": {},
   "outputs": [],
   "source": [
    "from hana_ml.algorithms.pal.preprocessing import Imputer"
   ]
  },
  {
   "cell_type": "code",
   "execution_count": null,
   "id": "4f0bead8",
   "metadata": {},
   "outputs": [],
   "source": [
    "impute = Imputer(strategy='most_frequent-median')"
   ]
  },
  {
   "cell_type": "code",
   "execution_count": null,
   "id": "b7d0ad9e",
   "metadata": {},
   "outputs": [],
   "source": [
    "hdf_titanic_train_imputed = impute.fit_transform(hdf_titanic_train,\n",
    "                                                    categorical_variable=['PClass'],\n",
    "                                                    strategy_by_col=[('Cabin', 'non')]\n",
    "                                                )"
   ]
  },
  {
   "cell_type": "code",
   "execution_count": null,
   "id": "c8303518",
   "metadata": {},
   "outputs": [],
   "source": [
    "hdf_titanic_train_imputed.describe().collect()"
   ]
  },
  {
   "cell_type": "code",
   "execution_count": null,
   "id": "18c4e38d",
   "metadata": {},
   "outputs": [],
   "source": [
    "hdf_titanic_train_imputed.select_statement"
   ]
  },
  {
   "cell_type": "markdown",
   "id": "6bf31fb3-b34f-4bc4-8b94-4b88fa58ffef",
   "metadata": {},
   "source": [
    "You want to persist this table for future experiments"
   ]
  },
  {
   "cell_type": "code",
   "execution_count": null,
   "id": "6c9b9b2e",
   "metadata": {},
   "outputs": [],
   "source": [
    "hdf_titanic_train_imputed=hdf_titanic_train_imputed.save(where='TRAIN_IMPUTED', force=True)"
   ]
  },
  {
   "attachments": {},
   "cell_type": "markdown",
   "id": "96bbfc41-6881-4397-94fa-bc79761dbe07",
   "metadata": {},
   "source": [
    "# Random Decision Tree classification\n",
    "\n",
    "Experiement 4: Exclude high cardinality features (names, tickets and cabins) to improve generalization of the model"
   ]
  },
  {
   "cell_type": "code",
   "execution_count": null,
   "id": "ddfd6ad8",
   "metadata": {},
   "outputs": [],
   "source": [
    "from hana_ml.algorithms.pal.unified_classification import UnifiedClassification"
   ]
  },
  {
   "cell_type": "code",
   "execution_count": null,
   "id": "9e13db34",
   "metadata": {},
   "outputs": [],
   "source": [
    "uc_rdt_v4 = UnifiedClassification(func='RandomDecisionTree')"
   ]
  },
  {
   "cell_type": "code",
   "execution_count": null,
   "id": "57a3a0fc",
   "metadata": {},
   "outputs": [],
   "source": [
    "features_low_cardinality=['Age', 'SibSp', 'ParCh', 'PClass', 'Fare', 'Gender', 'Embarked']"
   ]
  },
  {
   "cell_type": "code",
   "execution_count": null,
   "id": "f2e0cbb3",
   "metadata": {},
   "outputs": [],
   "source": [
    "uc_rdt_v4.fit(\n",
    "    data=hdf_titanic_train_imputed,\n",
    "    key='PassengerId', label='Survived',\n",
    "    features=features_low_cardinality,\n",
    "    training_percent=0.8,\n",
    "    partition_method='stratified', stratified_column='Survived', \n",
    "    partition_random_state=2\n",
    ");"
   ]
  },
  {
   "attachments": {},
   "cell_type": "markdown",
   "id": "c7c02e93-0356-4bdf-8fd8-62da8f3379e0",
   "metadata": {},
   "source": [
    "## Generate a model report"
   ]
  },
  {
   "cell_type": "code",
   "execution_count": null,
   "id": "46f58687-a988-4c62-9775-6d24619af87a",
   "metadata": {
    "slideshow": {
     "slide_type": "slide"
    }
   },
   "outputs": [],
   "source": [
    "from hana_ml.visualizers.unified_report import UnifiedReport\n",
    "UnifiedReport(uc_rdt_v4).build().display()"
   ]
  },
  {
   "attachments": {},
   "cell_type": "markdown",
   "id": "773f04f8",
   "metadata": {},
   "source": [
    "## Debrief the model"
   ]
  },
  {
   "cell_type": "code",
   "execution_count": null,
   "id": "beaa3177",
   "metadata": {},
   "outputs": [],
   "source": [
    "from hana_ml.visualizers.model_debriefing import TreeModelDebriefing"
   ]
  },
  {
   "cell_type": "code",
   "execution_count": null,
   "id": "95a91712",
   "metadata": {},
   "outputs": [],
   "source": [
    "TreeModelDebriefing.tree_debrief_with_dot(uc_rdt_v4.model_[0], iframe_height=700);"
   ]
  },
  {
   "cell_type": "markdown",
   "id": "8ccd0c4d",
   "metadata": {},
   "source": [
    "## Imputation in the TRAIN table"
   ]
  },
  {
   "cell_type": "code",
   "execution_count": null,
   "id": "f068c498",
   "metadata": {},
   "outputs": [],
   "source": [
    "hdf_titanic_test=myconn.table('TEST', schema='TITANIC')"
   ]
  },
  {
   "cell_type": "code",
   "execution_count": null,
   "id": "8a7b27b0",
   "metadata": {},
   "outputs": [],
   "source": [
    "hdf_titanic_test.describe().filter(condition='\"nulls\"<>0').collect()"
   ]
  },
  {
   "cell_type": "code",
   "execution_count": null,
   "id": "6bdf103d",
   "metadata": {},
   "outputs": [],
   "source": [
    "hdf_titanic_test_imputed = impute.fit_transform(hdf_titanic_test,\n",
    "                                                    categorical_variable=['PClass'],\n",
    "                                                    strategy_by_col=[('Cabin', 'non')]\n",
    "                                                )"
   ]
  },
  {
   "cell_type": "code",
   "execution_count": null,
   "id": "d87889d5",
   "metadata": {},
   "outputs": [],
   "source": [
    "hdf_titanic_test_imputed.describe().collect()"
   ]
  },
  {
   "cell_type": "code",
   "execution_count": null,
   "id": "ca0b3d03",
   "metadata": {},
   "outputs": [],
   "source": [
    "hdf_titanic_test_imputed.select_statement"
   ]
  },
  {
   "cell_type": "code",
   "execution_count": null,
   "id": "304c8f4a",
   "metadata": {},
   "outputs": [],
   "source": [
    "hdf_titanic_test_imputed=hdf_titanic_test_imputed.save(where='TEST_IMPUTED', force=True)"
   ]
  },
  {
   "cell_type": "code",
   "execution_count": null,
   "id": "21d4c41f-6e80-4d0c-a728-f67f21d92849",
   "metadata": {},
   "outputs": [],
   "source": [
    "myconn.get_tables().sort_values(by='TABLE_NAME')"
   ]
  },
  {
   "cell_type": "code",
   "execution_count": null,
   "id": "0080f3b9-6b69-4032-b479-ee05ff8628ff",
   "metadata": {},
   "outputs": [],
   "source": [
    "from IPython.display import HTML\n",
    "HTML(myconn.get_tables().sort_values(by='TABLE_NAME').to_html())"
   ]
  },
  {
   "attachments": {},
   "cell_type": "markdown",
   "id": "e7a8d4b8-12d4-442b-bce4-3648aae1a818",
   "metadata": {},
   "source": [
    "🤓 **Let's discuss**:\n",
    "- Tables seen in your schema"
   ]
  },
  {
   "cell_type": "markdown",
   "id": "fecab31a",
   "metadata": {},
   "source": [
    "## Call predition"
   ]
  },
  {
   "cell_type": "code",
   "execution_count": null,
   "id": "d9a7678c-5787-453d-92ca-14f90568b03b",
   "metadata": {},
   "outputs": [],
   "source": [
    "hdf_res_v4 = uc_rdt_v4.predict(hdf_titanic_test_imputed, key = 'PassengerId')"
   ]
  },
  {
   "cell_type": "code",
   "execution_count": null,
   "id": "56ae4a2c-c723-409a-b08f-58327b2e4328",
   "metadata": {},
   "outputs": [],
   "source": [
    "display(hdf_res_v4.sort('CONFIDENCE', desc=True).head(3).collect())\n",
    "display(hdf_res_v4.sort('CONFIDENCE', desc=True).tail(3).collect())"
   ]
  },
  {
   "cell_type": "markdown",
   "id": "a1b66e86",
   "metadata": {},
   "source": [
    "## Compare to the ground truth"
   ]
  },
  {
   "cell_type": "code",
   "execution_count": null,
   "id": "4eb2a752",
   "metadata": {},
   "outputs": [],
   "source": [
    "hdf_titanic_complete=myconn.table('COMPLETE', schema='TITANIC')"
   ]
  },
  {
   "cell_type": "code",
   "execution_count": null,
   "id": "2bf6ca0d",
   "metadata": {},
   "outputs": [],
   "source": [
    "hdf_res_ext=hdf_res_v4.set_index('PassengerId').join(hdf_titanic_test_imputed.set_index('PassengerId'))"
   ]
  },
  {
   "cell_type": "code",
   "execution_count": null,
   "id": "c5dde56a-3246-4a21-92c1-a7879e651635",
   "metadata": {},
   "outputs": [],
   "source": [
    "hdf_res_incl_groundtruth=(hdf_res_ext.set_index(['Name', 'Ticket']).join(hdf_titanic_complete.set_index(['name', 'ticket']))\n",
    "                 .select('PassengerId', 'Name', 'Ticket', 'SCORE','survived',('1-ABS(SCORE-\"survived\")', 'IS_CORRECT'))\n",
    "                 .cast('SCORE', 'TINYINT')\n",
    "\n",
    ")"
   ]
  },
  {
   "cell_type": "markdown",
   "id": "c3510a40-40bf-47b6-90ef-b8bcf795fe48",
   "metadata": {},
   "source": [
    "### Accuracy"
   ]
  },
  {
   "cell_type": "code",
   "execution_count": null,
   "id": "ca47d152-8ce9-4ab6-a5ad-b8a6a487fe41",
   "metadata": {},
   "outputs": [],
   "source": [
    "hdf_res_incl_groundtruth.select(('SUM(\"IS_CORRECT\")/COUNT(\"IS_CORRECT\")','Accuracy')).collect()"
   ]
  },
  {
   "cell_type": "markdown",
   "id": "ea50cf10",
   "metadata": {},
   "source": [
    "### Confusion matrix"
   ]
  },
  {
   "cell_type": "code",
   "execution_count": null,
   "id": "a9d014a4",
   "metadata": {},
   "outputs": [],
   "source": [
    "hdf_res_incl_groundtruth.agg(agg_list=[('count','PassengerId','COUNT')], group_by=['SCORE','survived']).collect()"
   ]
  },
  {
   "cell_type": "code",
   "execution_count": null,
   "id": "a64c30e0",
   "metadata": {},
   "outputs": [],
   "source": [
    "df_res_incl_gt_pivot=(hdf_res_incl_groundtruth\n",
    " .pivot_table(values='PassengerId', index='SCORE', columns='survived', aggfunc='count')\n",
    " .collect()\n",
    ");"
   ]
  },
  {
   "cell_type": "markdown",
   "id": "a75e65d5",
   "metadata": {},
   "source": [
    "Order columns and rows by 0,1, and remove the Pandas DataFrame index"
   ]
  },
  {
   "cell_type": "code",
   "execution_count": null,
   "id": "bfcd528b",
   "metadata": {},
   "outputs": [],
   "source": [
    "(df_res_incl_gt_pivot[[df_res_incl_gt_pivot.columns[0]]+sorted(df_res_incl_gt_pivot.columns[1:])]\n",
    " .sort_values(by=df_res_incl_gt_pivot.columns[0], axis=0)\n",
    " .style.hide(axis='index')\n",
    ")"
   ]
  },
  {
   "cell_type": "code",
   "execution_count": null,
   "id": "cfddd8d0-8484-440f-8c79-8d5e68077e53",
   "metadata": {},
   "outputs": [],
   "source": []
  }
 ],
 "metadata": {
  "kernelspec": {
   "display_name": "Python 3 (ipykernel)",
   "language": "python",
   "name": "python3"
  },
  "language_info": {
   "codemirror_mode": {
    "name": "ipython",
    "version": 3
   },
   "file_extension": ".py",
   "mimetype": "text/x-python",
   "name": "python",
   "nbconvert_exporter": "python",
   "pygments_lexer": "ipython3",
   "version": "3.10.12"
  },
  "vscode": {
   "interpreter": {
    "hash": "9d081a5f1f467ba7b9337ca09e42f0c0ed4894bb4cce0c846263a933dc8b5e80"
   }
  }
 },
 "nbformat": 4,
 "nbformat_minor": 5
}
