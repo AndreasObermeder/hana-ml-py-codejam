{
 "cells": [
  {
   "attachments": {},
   "cell_type": "markdown",
   "id": "8428095a",
   "metadata": {},
   "source": [
    "# Load the user connection data and connect to the SAP HANA database instance\n",
    "\n",
    "Before running the next cell make sure [../0x00-setup/temp_user.ini](../0x00-setup/temp_user.ini) is copied to [../0x00-setup/user.ini](../0x00-setup/user.ini) and the user + password are set appropriately."
   ]
  },
  {
   "cell_type": "code",
   "execution_count": null,
   "id": "65c2aa83",
   "metadata": {},
   "outputs": [],
   "source": [
    "from hana_ml.algorithms.pal.utility import Settings\n",
    "myhost, myport, myuser, mypwd = Settings.load_config(\"../0x00-setup/user.ini\")"
   ]
  },
  {
   "cell_type": "code",
   "execution_count": null,
   "id": "a805dd3e-8557-4f00-8715-ce10671cdecd",
   "metadata": {},
   "outputs": [],
   "source": [
    "from hana_ml import dataframe as hdf\n",
    "myconn=hdf.ConnectionContext(\n",
    "    address=myhost, \n",
    "    port=myport, \n",
    "    user=myuser,\n",
    "    password=mypwd\n",
    ")\n",
    "print(f\"Connected to SAP HANA db version {myconn.hana_version()} \\nat {myhost}:{myport} as user {myuser}\")"
   ]
  },
  {
   "cell_type": "code",
   "execution_count": null,
   "id": "f528240e-9907-4215-83eb-9ba21da5ed1f",
   "metadata": {},
   "outputs": [],
   "source": [
    "print(myconn.sql(\"SELECT NOW() FROM DUMMY\").collect().CURRENT_TIMESTAMP[0])"
   ]
  },
  {
   "attachments": {},
   "cell_type": "markdown",
   "id": "3621f0aa-8537-4777-bf7a-26032e9b4a8a",
   "metadata": {},
   "source": [
    "# Tables from SAP HANA"
   ]
  },
  {
   "cell_type": "code",
   "execution_count": null,
   "id": "f6b9ef16-4740-4d55-876f-7b418b345422",
   "metadata": {},
   "outputs": [],
   "source": [
    "hdf_titanic_train=myconn.table('TRAIN', schema='TITANIC')"
   ]
  },
  {
   "attachments": {},
   "cell_type": "markdown",
   "id": "96bbfc41-6881-4397-94fa-bc79761dbe07",
   "metadata": {},
   "source": [
    "# Random Decision Tree classification\n",
    "\n",
    "Experiment 3: Exclude high cardinality features (names, tickets and cabins) to improve generalization of the model"
   ]
  },
  {
   "cell_type": "code",
   "execution_count": null,
   "id": "ddfd6ad8",
   "metadata": {},
   "outputs": [],
   "source": [
    "from hana_ml.algorithms.pal.unified_classification import UnifiedClassification"
   ]
  },
  {
   "cell_type": "code",
   "execution_count": null,
   "id": "9e13db34",
   "metadata": {},
   "outputs": [],
   "source": [
    "uc_rdt_v3 = UnifiedClassification(func='RandomDecisionTree')"
   ]
  },
  {
   "cell_type": "code",
   "execution_count": null,
   "id": "57a3a0fc",
   "metadata": {},
   "outputs": [],
   "source": [
    "features_low_cardinality=['Age', 'SibSp', 'ParCh', 'PClass', 'Fare', 'Gender', 'Embarked']\n",
    "#list(set(hdf_titanic_train.columns) - set(['Name', 'Ticket', 'Cabin', 'PassengerId', 'Survived'])) ## <--define features manually"
   ]
  },
  {
   "cell_type": "code",
   "execution_count": null,
   "id": "f2e0cbb3",
   "metadata": {},
   "outputs": [],
   "source": [
    "uc_rdt_v3.fit(\n",
    "    data=hdf_titanic_train,\n",
    "    key='PassengerId', label='Survived',\n",
    "    features=features_low_cardinality, #pass only low-cardinality features\n",
    "    training_percent=0.8,\n",
    "    partition_method='stratified', stratified_column='Survived', \n",
    "    partition_random_state=2\n",
    ");"
   ]
  },
  {
   "attachments": {},
   "cell_type": "markdown",
   "id": "c7c02e93-0356-4bdf-8fd8-62da8f3379e0",
   "metadata": {},
   "source": [
    "## Generate a model report"
   ]
  },
  {
   "cell_type": "code",
   "execution_count": null,
   "id": "46f58687-a988-4c62-9775-6d24619af87a",
   "metadata": {
    "slideshow": {
     "slide_type": "slide"
    }
   },
   "outputs": [],
   "source": [
    "from hana_ml.visualizers.unified_report import UnifiedReport\n",
    "UnifiedReport(uc_rdt_v3).build().display()"
   ]
  },
  {
   "attachments": {},
   "cell_type": "markdown",
   "id": "773f04f8",
   "metadata": {},
   "source": [
    "## Debrief the model"
   ]
  },
  {
   "cell_type": "code",
   "execution_count": null,
   "id": "beaa3177",
   "metadata": {},
   "outputs": [],
   "source": [
    "from hana_ml.visualizers.model_debriefing import TreeModelDebriefing"
   ]
  },
  {
   "cell_type": "code",
   "execution_count": null,
   "id": "95a91712",
   "metadata": {},
   "outputs": [],
   "source": [
    "TreeModelDebriefing.tree_debrief_with_dot(uc_rdt_v3.model_[0], iframe_height=700);"
   ]
  },
  {
   "cell_type": "markdown",
   "id": "4d82328e",
   "metadata": {},
   "source": [
    "# Store the model"
   ]
  },
  {
   "cell_type": "code",
   "execution_count": null,
   "id": "d78f7938",
   "metadata": {},
   "outputs": [],
   "source": [
    "from hana_ml.model_storage import ModelStorage"
   ]
  },
  {
   "cell_type": "markdown",
   "id": "782911cd",
   "metadata": {},
   "source": [
    "Model storage: https://help.sap.com/doc/cd94b08fe2e041c2ba778374572ddba9/2023_1_QRC/en-US/hana_ml.model_storage.html"
   ]
  },
  {
   "cell_type": "code",
   "execution_count": null,
   "id": "8e639f85",
   "metadata": {},
   "outputs": [],
   "source": [
    "ms = ModelStorage(myconn)"
   ]
  },
  {
   "cell_type": "code",
   "execution_count": null,
   "id": "84158758",
   "metadata": {},
   "outputs": [],
   "source": [
    "uc_rdt_v3.name = 'CodeJam-Titanic-Classification - Experiement 0x030'\n",
    "ms.save_model(model=uc_rdt_v3, save_report=False)"
   ]
  },
  {
   "cell_type": "code",
   "execution_count": null,
   "id": "b9f8acf0",
   "metadata": {},
   "outputs": [],
   "source": [
    "ms.list_models()"
   ]
  },
  {
   "cell_type": "code",
   "execution_count": null,
   "id": "e0ce6235-3424-4f04-9206-f1513ba39307",
   "metadata": {},
   "outputs": [],
   "source": [
    "null = None\n",
    "false = False\n",
    "true = True\n",
    "eval(ms.list_models(name=uc_rdt_v3.name).at[0, 'JSON'])"
   ]
  },
  {
   "attachments": {},
   "cell_type": "markdown",
   "id": "f1d9afc3-06df-465c-af84-6aba89e63b43",
   "metadata": {},
   "source": [
    "## Call predition"
   ]
  },
  {
   "cell_type": "code",
   "execution_count": null,
   "id": "8790b2a9-60f6-4c1a-aee0-80a374b44616",
   "metadata": {},
   "outputs": [],
   "source": [
    "hdf_titanic_test=myconn.table('TEST', schema='TITANIC')"
   ]
  },
  {
   "cell_type": "code",
   "execution_count": null,
   "id": "d9a7678c-5787-453d-92ca-14f90568b03b",
   "metadata": {},
   "outputs": [],
   "source": [
    "hdf_res_v3 = uc_rdt_v3.predict(hdf_titanic_test, key = 'PassengerId')"
   ]
  },
  {
   "cell_type": "code",
   "execution_count": null,
   "id": "56ae4a2c-c723-409a-b08f-58327b2e4328",
   "metadata": {},
   "outputs": [],
   "source": [
    "display(hdf_res_v3.sort('CONFIDENCE', desc=True).head(3).collect())\n",
    "display(hdf_res_v3.sort('CONFIDENCE', desc=True).tail(3).collect())"
   ]
  },
  {
   "cell_type": "markdown",
   "id": "a1b66e86",
   "metadata": {},
   "source": [
    "## Compare to the ground truth"
   ]
  },
  {
   "cell_type": "code",
   "execution_count": null,
   "id": "4eb2a752",
   "metadata": {},
   "outputs": [],
   "source": [
    "hdf_titanic_complete=myconn.table('COMPLETE', schema='TITANIC')"
   ]
  },
  {
   "cell_type": "code",
   "execution_count": null,
   "id": "2bf6ca0d",
   "metadata": {},
   "outputs": [],
   "source": [
    "hdf_res_ext=hdf_res_v3.set_index('PassengerId').join(hdf_titanic_test.set_index('PassengerId'))"
   ]
  },
  {
   "cell_type": "code",
   "execution_count": null,
   "id": "2471b64a",
   "metadata": {},
   "outputs": [],
   "source": [
    "hdf_res_ext.head(3).collect()"
   ]
  },
  {
   "cell_type": "code",
   "execution_count": null,
   "id": "ad4a64a2-8f7b-401d-bf84-dec800370f63",
   "metadata": {},
   "outputs": [],
   "source": [
    "hdf_res_incl_groundtruth=(hdf_res_ext.set_index(['Name', 'Ticket']).join(hdf_titanic_complete.set_index(['name', 'ticket']))\n",
    "                 .select('PassengerId', 'Name', 'Ticket', 'SCORE','survived',('1-ABS(SCORE-\"survived\")', 'IS_CORRECT'))\n",
    "                 .cast('SCORE', 'TINYINT')\n",
    "\n",
    ")"
   ]
  },
  {
   "cell_type": "markdown",
   "id": "a844a98b-a57d-41c2-9733-2ab0b7c119a6",
   "metadata": {},
   "source": [
    "### Accuracy"
   ]
  },
  {
   "cell_type": "code",
   "execution_count": null,
   "id": "f1975685-15ed-454f-90de-038c4bcdebf1",
   "metadata": {},
   "outputs": [],
   "source": [
    "hdf_res_incl_groundtruth.select(('SUM(\"IS_CORRECT\")/COUNT(\"IS_CORRECT\")','Accuracy')).collect()"
   ]
  },
  {
   "cell_type": "markdown",
   "id": "ea50cf10",
   "metadata": {},
   "source": [
    "### Confusion matrix"
   ]
  },
  {
   "cell_type": "code",
   "execution_count": null,
   "id": "a98e875a-6c45-493e-ad2e-24393b491fac",
   "metadata": {},
   "outputs": [],
   "source": [
    "hdf_res_incl_groundtruth.agg(agg_list=[('count','PassengerId','COUNT')], group_by=['SCORE','survived']).collect()"
   ]
  },
  {
   "cell_type": "code",
   "execution_count": null,
   "id": "a64c30e0",
   "metadata": {},
   "outputs": [],
   "source": [
    "df_res_incl_gt_pivot=(hdf_res_incl_groundtruth\n",
    " .pivot_table(values='PassengerId', index='SCORE', columns='survived', aggfunc='count')\n",
    " .collect()\n",
    ");"
   ]
  },
  {
   "cell_type": "markdown",
   "id": "a75e65d5",
   "metadata": {},
   "source": [
    "Order columns and rows by 0,1, and remove the Pandas DataFrame index"
   ]
  },
  {
   "cell_type": "code",
   "execution_count": null,
   "id": "bfcd528b",
   "metadata": {},
   "outputs": [],
   "source": [
    "(df_res_incl_gt_pivot[[df_res_incl_gt_pivot.columns[0]]+sorted(df_res_incl_gt_pivot.columns[1:])]\n",
    " .sort_values(by=df_res_incl_gt_pivot.columns[0], axis=0)\n",
    " .style.hide(axis='index')\n",
    ")"
   ]
  },
  {
   "attachments": {},
   "cell_type": "markdown",
   "id": "0a1292a7-61c3-4cf9-9b75-feaf2f505474",
   "metadata": {},
   "source": [
    "🤓 **Let's discuss**:\n",
    "- Comparison of the last two models you trained"
   ]
  }
 ],
 "metadata": {
  "kernelspec": {
   "display_name": "Python 3 (ipykernel)",
   "language": "python",
   "name": "python3"
  },
  "language_info": {
   "codemirror_mode": {
    "name": "ipython",
    "version": 3
   },
   "file_extension": ".py",
   "mimetype": "text/x-python",
   "name": "python",
   "nbconvert_exporter": "python",
   "pygments_lexer": "ipython3",
   "version": "3.10.12"
  },
  "vscode": {
   "interpreter": {
    "hash": "9d081a5f1f467ba7b9337ca09e42f0c0ed4894bb4cce0c846263a933dc8b5e80"
   }
  }
 },
 "nbformat": 4,
 "nbformat_minor": 5
}
