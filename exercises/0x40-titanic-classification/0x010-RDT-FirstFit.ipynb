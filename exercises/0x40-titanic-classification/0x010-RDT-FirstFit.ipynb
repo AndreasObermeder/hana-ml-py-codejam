{
 "cells": [
  {
   "attachments": {},
   "cell_type": "markdown",
   "id": "f57177d5",
   "metadata": {},
   "source": [
    "# Load the user connection data and connect to the SAP HANA database instance\n",
    "\n",
    "Before running the next cell make sure [../0x00-setup/temp_user.ini](../0x00-setup/temp_user.ini) is copied to [../0x00-setup/user.ini](../0x00-setup/user.ini) and the user + password are set appropriately."
   ]
  },
  {
   "cell_type": "code",
   "execution_count": 1,
   "id": "65c2aa83",
   "metadata": {},
   "outputs": [],
   "source": [
    "from hana_ml.algorithms.pal.utility import Settings\n",
    "myhost, myport, myuser, mypwd = Settings.load_config(\"../0x00-setup/user.ini\")"
   ]
  },
  {
   "cell_type": "code",
   "execution_count": 22,
   "id": "9c952d1d-ee68-4f5d-9a2f-795e9e3ac83c",
   "metadata": {},
   "outputs": [
    {
     "name": "stdout",
     "output_type": "stream",
     "text": [
      "Connected to SAP HANA db version 4.00.000.00.1689068747 (fa/CE2023.16) \n",
      "at b7c3ff95-9e0c-480d-9022-bfaaa268f780.hna0.prod-us10.hanacloud.ondemand.com:443 as user CodeJam00\n"
     ]
    }
   ],
   "source": [
    "from hana_ml import dataframe as hdf\n",
    "myconn=hdf.ConnectionContext(\n",
    "    address=myhost, \n",
    "    port=myport, \n",
    "    user=myuser,\n",
    "    password=mypwd\n",
    ")\n",
    "print(f\"Connected to SAP HANA db version {myconn.hana_version()} \\nat {myhost}:{myport} as user {myuser}\")"
   ]
  },
  {
   "cell_type": "code",
   "execution_count": 3,
   "id": "620ea433-4a3d-4109-9e94-1f111a89b32c",
   "metadata": {},
   "outputs": [
    {
     "name": "stdout",
     "output_type": "stream",
     "text": [
      "2023-07-20 16:50:51.127000\n"
     ]
    }
   ],
   "source": [
    "print(myconn.sql(\"SELECT NOW() FROM DUMMY\").collect().CURRENT_TIMESTAMP[0])"
   ]
  },
  {
   "attachments": {},
   "cell_type": "markdown",
   "id": "bb1afdec-6de1-4110-861e-69d4899e8dfb",
   "metadata": {},
   "source": [
    "# Tables from SAP HANA"
   ]
  },
  {
   "cell_type": "code",
   "execution_count": 23,
   "id": "00efbb56-b3ca-48a4-9c2e-b5ca9bc5965f",
   "metadata": {},
   "outputs": [
    {
     "name": "stdout",
     "output_type": "stream",
     "text": [
      "['PassengerId', 'Survived', 'PClass', 'Name', 'Gender', 'Age', 'SibSp', 'ParCh', 'Ticket', 'Fare', 'Cabin', 'Embarked']\n"
     ]
    }
   ],
   "source": [
    "hdf_titanic_train=myconn.table('TRAIN', schema='TITANIC')\n",
    "print(hdf_titanic_train.columns)"
   ]
  },
  {
   "cell_type": "code",
   "execution_count": 24,
   "id": "b47a9e1f-e413-4b54-b214-9186645cca08",
   "metadata": {},
   "outputs": [],
   "source": [
    "col_id='PassengerId'\n",
    "col_label='Survived'"
   ]
  },
  {
   "cell_type": "code",
   "execution_count": 25,
   "id": "a8880d16-dc44-4548-a8fb-b346f9bb5a2c",
   "metadata": {},
   "outputs": [
    {
     "name": "stdout",
     "output_type": "stream",
     "text": [
      "['PClass', 'Name', 'Gender', 'Age', 'SibSp', 'ParCh', 'Ticket', 'Fare', 'Cabin', 'Embarked']\n"
     ]
    }
   ],
   "source": [
    "col_features=[feature for feature in hdf_titanic_train.columns if not (feature in {col_id, col_label})]\n",
    "print(col_features)"
   ]
  },
  {
   "attachments": {},
   "cell_type": "markdown",
   "id": "96bbfc41-6881-4397-94fa-bc79761dbe07",
   "metadata": {},
   "source": [
    "# Random Decision Tree classification"
   ]
  },
  {
   "attachments": {},
   "cell_type": "markdown",
   "id": "e08c6ec0",
   "metadata": {},
   "source": [
    "Random Decision Tree, aka RDT: https://help.sap.com/doc/cd94b08fe2e041c2ba778374572ddba9/2023_1_QRC/en-US/pal/algorithms/hana_ml.algorithms.pal.trees.RDTClassifier.html"
   ]
  },
  {
   "cell_type": "code",
   "execution_count": 26,
   "id": "a06f832b-72c1-4a4c-aca0-6f2b251f1ab8",
   "metadata": {},
   "outputs": [],
   "source": [
    "from hana_ml.algorithms.pal.unified_classification import UnifiedClassification"
   ]
  },
  {
   "cell_type": "markdown",
   "id": "fc19d166-f72f-4d79-a547-87c9aec4618f",
   "metadata": {},
   "source": [
    "UnifiedClassification offers a varity of classfication algorithms. We use RandomDecisionTree for training.\n",
    "\n",
    "Other options are: \n",
    "- 'DecisionTree'\n",
    "- 'HybridGradientBoostingTree'\n",
    "- 'LogisticRegression'\n",
    "- 'MLP'\n",
    "- 'NaiveBayes'\n",
    "- 'RandomDecisionTree'\n",
    "- 'SVM'"
   ]
  },
  {
   "attachments": {},
   "cell_type": "markdown",
   "id": "39ea7998-da84-4d66-986a-f3aa7a9b3a09",
   "metadata": {},
   "source": [
    "### The simplest training call\n",
    "\n",
    "RDT Classifier has many parameters to influence the execution of the fitting algorithm: https://help.sap.com/doc/cd94b08fe2e041c2ba778374572ddba9/2023_1_QRC/en-US/pal/algorithms/hana_ml.algorithms.pal.trees.RDTClassifier.html#rdtclassifier, but for now you run it with the default parameters only.\n",
    "\n",
    "You will use Unified Classifier class to create an RDT class: https://help.sap.com/doc/cd94b08fe2e041c2ba778374572ddba9/2023_1_QRC/en-US/pal/algorithms/hana_ml.algorithms.pal.unified_classification.UnifiedClassification.html#unifiedclassification"
   ]
  },
  {
   "cell_type": "code",
   "execution_count": 27,
   "id": "c3924184-9714-40e4-b044-c911ea6aa75a",
   "metadata": {},
   "outputs": [],
   "source": [
    "uc_rdt = UnifiedClassification(func='RandomDecisionTree')"
   ]
  },
  {
   "attachments": {},
   "cell_type": "markdown",
   "id": "32131743",
   "metadata": {},
   "source": [
    "The `fit()` procedure returns a fitted object: https://help.sap.com/doc/cd94b08fe2e041c2ba778374572ddba9/2023_1_QRC/en-US/pal/algorithms/hana_ml.algorithms.pal.trees.RDTClassifier.html#hana_ml.algorithms.pal.trees.RDTClassifier.fit, ie. populated attributes, like \n",
    "- `model_DataFrame`: Trained model content.\n",
    "- `feature_importances_DataFrame`: The feature importance (the higher, the more important the feature).\n",
    "- `oob_error_DataFrame`: Out-of-bag error rate or mean squared error for random decision trees up to indexed tree. Set to None if calculate_oob is False.\n",
    "- `confusion_matrix_DataFrame`: Confusion matrix used to evaluate the performance of classification algorithms.\n",
    "\n",
    "To understand these structures better check the corresponding PAL documentation: https://help.sap.com/docs/HANA_CLOUD_DATABASE/319d36de4fd64ac3afbf91b1fb3ce8de/9ad576abab8f497ab2ade2b86c1ff61a.html#_sys_afl.pal_random_decision_trees\n",
    "\n",
    "To understand the mapping between PAL objects and fields in SQL and in Python, check https://help.sap.com/doc/cd94b08fe2e041c2ba778374572ddba9/2023_1_QRC/en-US/pal/parameter_mappings.html (or https://help.sap.com/doc/cd94b08fe2e041c2ba778374572ddba9/2023_1_QRC/en-US/_static/extra_parameter_mappings.html#/ for the full screen)"
   ]
  },
  {
   "cell_type": "markdown",
   "id": "34fe136c-77f8-42cd-83c0-525ce8a5ee6f",
   "metadata": {},
   "source": [
    "The simplest training (fit) call: only the key and the label (the target) of the dataset"
   ]
  },
  {
   "cell_type": "code",
   "execution_count": 29,
   "id": "39ea46c4-a368-4765-90fd-d6419378a04e",
   "metadata": {},
   "outputs": [],
   "source": [
    "uc_rdt.fit(\n",
    "    data=hdf_titanic_train,\n",
    "    key=col_id, \n",
    "    label=col_label\n",
    ");"
   ]
  },
  {
   "cell_type": "code",
   "execution_count": 30,
   "id": "86e938dc-d30d-46e2-b84a-bd6c3a4dfff1",
   "metadata": {
    "tags": []
   },
   "outputs": [
    {
     "name": "stdout",
     "output_type": "stream",
     "text": [
      "DO\n",
      "BEGIN\n",
      "DECLARE param_name VARCHAR(5000) ARRAY;\n",
      "DECLARE int_value INTEGER ARRAY;\n",
      "DECLARE double_value DOUBLE ARRAY;\n",
      "DECLARE string_value VARCHAR(5000) ARRAY;\n",
      "param_name[1] := N'FUNCTION';\n",
      "int_value[1] := NULL;\n",
      "double_value[1] := NULL;\n",
      "string_value[1] := N'RDT';\n",
      "param_name[2] := N'KEY';\n",
      "int_value[2] := 1;\n",
      "double_value[2] := NULL;\n",
      "string_value[2] := NULL;\n",
      "param_name[3] := N'HANDLE_MISSING_VALUE';\n",
      "int_value[3] := 0;\n",
      "double_value[3] := NULL;\n",
      "string_value[3] := NULL;\n",
      "param_name[4] := N'CATEGORICAL_VARIABLE';\n",
      "int_value[4] := NULL;\n",
      "double_value[4] := NULL;\n",
      "string_value[4] := N'Survived';\n",
      "params = UNNEST(:param_name, :int_value, :double_value, :string_value);\n",
      "in_0 = SELECT \"PassengerId\", \"PClass\", \"Name\", \"Gender\", \"Age\", \"SibSp\", \"ParCh\", \"Ticket\", \"Fare\", \"Cabin\", \"Embarked\", \"Survived\" FROM (SELECT * FROM \"TITANIC\".\"TRAIN\") AS \"DT_6\";\n",
      "CALL _SYS_AFL.PAL_UNIFIED_CLASSIFICATION(:in_0, :params, out_0, out_1, out_2, out_3, out_4, out_5, out_6, out_7);\n",
      "CREATE LOCAL TEMPORARY COLUMN TABLE \"#PAL_UNIFIED_CLASSIFICATION_MODEL_1_E85B23EA_271E_11EE_B945_9A1A5F2997FD\" AS (SELECT * FROM :out_0);\n",
      "CREATE LOCAL TEMPORARY COLUMN TABLE \"#PAL_UNIFIED_CLASSIFICATION_IMPORTANCE_1_E85B23EA_271E_11EE_B945_9A1A5F2997FD\" AS (SELECT * FROM :out_1);\n",
      "CREATE LOCAL TEMPORARY COLUMN TABLE \"#PAL_UNIFIED_CLASSIFICATION_STATS_1_E85B23EA_271E_11EE_B945_9A1A5F2997FD\" AS (SELECT * FROM :out_2);\n",
      "CREATE LOCAL TEMPORARY COLUMN TABLE \"#PAL_UNIFIED_CLASSIFICATION_OPT_PARAM_1_E85B23EA_271E_11EE_B945_9A1A5F2997FD\" AS (SELECT * FROM :out_3);\n",
      "CREATE LOCAL TEMPORARY COLUMN TABLE \"#PAL_UNIFIED_CLASSIFICATION_CONFUSION_MATRIX_1_E85B23EA_271E_11EE_B945_9A1A5F2997FD\" AS (SELECT * FROM :out_4);\n",
      "CREATE LOCAL TEMPORARY COLUMN TABLE \"#PAL_UNIFIED_CLASSIFICATION_METRICS_1_E85B23EA_271E_11EE_B945_9A1A5F2997FD\" AS (SELECT * FROM :out_5);\n",
      "CREATE LOCAL TEMPORARY COLUMN TABLE \"#PAL_UNIFIED_CLASSIFICATION_PARTITION_TYPE_1_E85B23EA_271E_11EE_B945_9A1A5F2997FD\" AS (SELECT * FROM :out_6);\n",
      "CREATE LOCAL TEMPORARY COLUMN TABLE \"#PAL_UNIFIED_CLASSIFICATION_PLACE_HOLDER1_1_E85B23EA_271E_11EE_B945_9A1A5F2997FD\" AS (SELECT * FROM :out_7);\n",
      "END\n",
      "\n"
     ]
    }
   ],
   "source": [
    "#Check fit procedure executed on the db side \n",
    "print(uc_rdt.get_fit_execute_statement())"
   ]
  },
  {
   "attachments": {},
   "cell_type": "markdown",
   "id": "3f6daf2a",
   "metadata": {},
   "source": [
    "# Call prediction"
   ]
  },
  {
   "cell_type": "code",
   "execution_count": 32,
   "id": "5630e639-4ac1-4058-80fe-e7697798d81c",
   "metadata": {},
   "outputs": [],
   "source": [
    "hdf_titanic_test=myconn.table('TEST', schema='TITANIC')"
   ]
  },
  {
   "cell_type": "markdown",
   "id": "bda7acb5-6c06-4e7e-a6ad-c6f7eccee5d0",
   "metadata": {},
   "source": [
    "The test table has the same structure except missing the column `Survived`."
   ]
  },
  {
   "cell_type": "code",
   "execution_count": 33,
   "id": "468af685-760b-4d97-ba71-68b707544033",
   "metadata": {},
   "outputs": [
    {
     "data": {
      "text/html": [
       "<div>\n",
       "<style scoped>\n",
       "    .dataframe tbody tr th:only-of-type {\n",
       "        vertical-align: middle;\n",
       "    }\n",
       "\n",
       "    .dataframe tbody tr th {\n",
       "        vertical-align: top;\n",
       "    }\n",
       "\n",
       "    .dataframe thead th {\n",
       "        text-align: right;\n",
       "    }\n",
       "</style>\n",
       "<table border=\"1\" class=\"dataframe\">\n",
       "  <thead>\n",
       "    <tr style=\"text-align: right;\">\n",
       "      <th></th>\n",
       "      <th>PassengerId</th>\n",
       "      <th>PClass</th>\n",
       "      <th>Name</th>\n",
       "      <th>Gender</th>\n",
       "      <th>Age</th>\n",
       "      <th>SibSp</th>\n",
       "      <th>ParCh</th>\n",
       "      <th>Ticket</th>\n",
       "      <th>Fare</th>\n",
       "      <th>Cabin</th>\n",
       "      <th>Embarked</th>\n",
       "    </tr>\n",
       "  </thead>\n",
       "  <tbody>\n",
       "    <tr>\n",
       "      <th>0</th>\n",
       "      <td>892</td>\n",
       "      <td>3</td>\n",
       "      <td>Kelly, Mr. James</td>\n",
       "      <td>male</td>\n",
       "      <td>34.5</td>\n",
       "      <td>0</td>\n",
       "      <td>0</td>\n",
       "      <td>330911</td>\n",
       "      <td>7.8292</td>\n",
       "      <td>None</td>\n",
       "      <td>Q</td>\n",
       "    </tr>\n",
       "    <tr>\n",
       "      <th>1</th>\n",
       "      <td>893</td>\n",
       "      <td>3</td>\n",
       "      <td>Wilkes, Mrs. James (Ellen Needs)</td>\n",
       "      <td>female</td>\n",
       "      <td>47.0</td>\n",
       "      <td>1</td>\n",
       "      <td>0</td>\n",
       "      <td>363272</td>\n",
       "      <td>7.0000</td>\n",
       "      <td>None</td>\n",
       "      <td>S</td>\n",
       "    </tr>\n",
       "    <tr>\n",
       "      <th>2</th>\n",
       "      <td>894</td>\n",
       "      <td>2</td>\n",
       "      <td>Myles, Mr. Thomas Francis</td>\n",
       "      <td>male</td>\n",
       "      <td>62.0</td>\n",
       "      <td>0</td>\n",
       "      <td>0</td>\n",
       "      <td>240276</td>\n",
       "      <td>9.6875</td>\n",
       "      <td>None</td>\n",
       "      <td>Q</td>\n",
       "    </tr>\n",
       "    <tr>\n",
       "      <th>3</th>\n",
       "      <td>895</td>\n",
       "      <td>3</td>\n",
       "      <td>Wirz, Mr. Albert</td>\n",
       "      <td>male</td>\n",
       "      <td>27.0</td>\n",
       "      <td>0</td>\n",
       "      <td>0</td>\n",
       "      <td>315154</td>\n",
       "      <td>8.6625</td>\n",
       "      <td>None</td>\n",
       "      <td>S</td>\n",
       "    </tr>\n",
       "  </tbody>\n",
       "</table>\n",
       "</div>"
      ],
      "text/plain": [
       "   PassengerId  PClass                              Name  Gender   Age  SibSp  \\\n",
       "0          892       3                  Kelly, Mr. James    male  34.5      0   \n",
       "1          893       3  Wilkes, Mrs. James (Ellen Needs)  female  47.0      1   \n",
       "2          894       2         Myles, Mr. Thomas Francis    male  62.0      0   \n",
       "3          895       3                  Wirz, Mr. Albert    male  27.0      0   \n",
       "\n",
       "   ParCh  Ticket    Fare Cabin Embarked  \n",
       "0      0  330911  7.8292  None        Q  \n",
       "1      0  363272  7.0000  None        S  \n",
       "2      0  240276  9.6875  None        Q  \n",
       "3      0  315154  8.6625  None        S  "
      ]
     },
     "execution_count": 33,
     "metadata": {},
     "output_type": "execute_result"
    }
   ],
   "source": [
    "hdf_titanic_test.head(4).collect()"
   ]
  },
  {
   "cell_type": "code",
   "execution_count": 34,
   "id": "665df841-2464-42a0-885e-301cfaacc721",
   "metadata": {},
   "outputs": [],
   "source": [
    "hdf_res = uc_rdt.predict(hdf_titanic_test, key = col_id)"
   ]
  },
  {
   "cell_type": "code",
   "execution_count": 35,
   "id": "ca5b4353-10ea-42c6-816d-a9ecc6e5795f",
   "metadata": {},
   "outputs": [
    {
     "data": {
      "text/html": [
       "<div>\n",
       "<style scoped>\n",
       "    .dataframe tbody tr th:only-of-type {\n",
       "        vertical-align: middle;\n",
       "    }\n",
       "\n",
       "    .dataframe tbody tr th {\n",
       "        vertical-align: top;\n",
       "    }\n",
       "\n",
       "    .dataframe thead th {\n",
       "        text-align: right;\n",
       "    }\n",
       "</style>\n",
       "<table border=\"1\" class=\"dataframe\">\n",
       "  <thead>\n",
       "    <tr style=\"text-align: right;\">\n",
       "      <th></th>\n",
       "      <th>PassengerId</th>\n",
       "      <th>SCORE</th>\n",
       "      <th>CONFIDENCE</th>\n",
       "      <th>REASON_CODE</th>\n",
       "    </tr>\n",
       "  </thead>\n",
       "  <tbody>\n",
       "    <tr>\n",
       "      <th>0</th>\n",
       "      <td>892</td>\n",
       "      <td>0</td>\n",
       "      <td>1.00</td>\n",
       "      <td>[{\"attr\":\"Name\",\"pct\":55.0,\"val\":0.21026322751...</td>\n",
       "    </tr>\n",
       "    <tr>\n",
       "      <th>1</th>\n",
       "      <td>893</td>\n",
       "      <td>0</td>\n",
       "      <td>0.90</td>\n",
       "      <td>[{\"attr\":\"Name\",\"pct\":47.0,\"val\":0.20929452586...</td>\n",
       "    </tr>\n",
       "    <tr>\n",
       "      <th>2</th>\n",
       "      <td>894</td>\n",
       "      <td>0</td>\n",
       "      <td>0.98</td>\n",
       "      <td>[{\"attr\":\"Name\",\"pct\":53.0,\"val\":0.20891505942...</td>\n",
       "    </tr>\n",
       "    <tr>\n",
       "      <th>3</th>\n",
       "      <td>895</td>\n",
       "      <td>0</td>\n",
       "      <td>1.00</td>\n",
       "      <td>[{\"attr\":\"Name\",\"pct\":55.0,\"val\":0.21026322751...</td>\n",
       "    </tr>\n",
       "    <tr>\n",
       "      <th>4</th>\n",
       "      <td>896</td>\n",
       "      <td>0</td>\n",
       "      <td>0.86</td>\n",
       "      <td>[{\"attr\":\"Name\",\"pct\":52.0,\"val\":0.21872588682...</td>\n",
       "    </tr>\n",
       "    <tr>\n",
       "      <th>...</th>\n",
       "      <td>...</td>\n",
       "      <td>...</td>\n",
       "      <td>...</td>\n",
       "      <td>...</td>\n",
       "    </tr>\n",
       "    <tr>\n",
       "      <th>413</th>\n",
       "      <td>1305</td>\n",
       "      <td>0</td>\n",
       "      <td>1.00</td>\n",
       "      <td>[{\"attr\":\"Name\",\"pct\":55.0,\"val\":0.21026322751...</td>\n",
       "    </tr>\n",
       "    <tr>\n",
       "      <th>414</th>\n",
       "      <td>1306</td>\n",
       "      <td>0</td>\n",
       "      <td>0.74</td>\n",
       "      <td>[{\"attr\":\"Name\",\"pct\":51.0,\"val\":0.22097796271...</td>\n",
       "    </tr>\n",
       "    <tr>\n",
       "      <th>415</th>\n",
       "      <td>1307</td>\n",
       "      <td>0</td>\n",
       "      <td>1.00</td>\n",
       "      <td>[{\"attr\":\"Name\",\"pct\":55.0,\"val\":0.21026322751...</td>\n",
       "    </tr>\n",
       "    <tr>\n",
       "      <th>416</th>\n",
       "      <td>1308</td>\n",
       "      <td>0</td>\n",
       "      <td>1.00</td>\n",
       "      <td>[{\"attr\":\"Name\",\"pct\":55.0,\"val\":0.21026322751...</td>\n",
       "    </tr>\n",
       "    <tr>\n",
       "      <th>417</th>\n",
       "      <td>1309</td>\n",
       "      <td>0</td>\n",
       "      <td>0.98</td>\n",
       "      <td>[{\"attr\":\"Name\",\"pct\":52.0,\"val\":0.22020772618...</td>\n",
       "    </tr>\n",
       "  </tbody>\n",
       "</table>\n",
       "<p>418 rows × 4 columns</p>\n",
       "</div>"
      ],
      "text/plain": [
       "     PassengerId SCORE  CONFIDENCE  \\\n",
       "0            892     0        1.00   \n",
       "1            893     0        0.90   \n",
       "2            894     0        0.98   \n",
       "3            895     0        1.00   \n",
       "4            896     0        0.86   \n",
       "..           ...   ...         ...   \n",
       "413         1305     0        1.00   \n",
       "414         1306     0        0.74   \n",
       "415         1307     0        1.00   \n",
       "416         1308     0        1.00   \n",
       "417         1309     0        0.98   \n",
       "\n",
       "                                           REASON_CODE  \n",
       "0    [{\"attr\":\"Name\",\"pct\":55.0,\"val\":0.21026322751...  \n",
       "1    [{\"attr\":\"Name\",\"pct\":47.0,\"val\":0.20929452586...  \n",
       "2    [{\"attr\":\"Name\",\"pct\":53.0,\"val\":0.20891505942...  \n",
       "3    [{\"attr\":\"Name\",\"pct\":55.0,\"val\":0.21026322751...  \n",
       "4    [{\"attr\":\"Name\",\"pct\":52.0,\"val\":0.21872588682...  \n",
       "..                                                 ...  \n",
       "413  [{\"attr\":\"Name\",\"pct\":55.0,\"val\":0.21026322751...  \n",
       "414  [{\"attr\":\"Name\",\"pct\":51.0,\"val\":0.22097796271...  \n",
       "415  [{\"attr\":\"Name\",\"pct\":55.0,\"val\":0.21026322751...  \n",
       "416  [{\"attr\":\"Name\",\"pct\":55.0,\"val\":0.21026322751...  \n",
       "417  [{\"attr\":\"Name\",\"pct\":52.0,\"val\":0.22020772618...  \n",
       "\n",
       "[418 rows x 4 columns]"
      ]
     },
     "execution_count": 35,
     "metadata": {},
     "output_type": "execute_result"
    }
   ],
   "source": [
    "hdf_res.collect()"
   ]
  },
  {
   "attachments": {},
   "cell_type": "markdown",
   "id": "6086c0f0-fab3-4eea-b292-7629b9218e80",
   "metadata": {},
   "source": [
    "🤓 **Let's discuss**:\n",
    "- The structure of the result table `hdf_res`"
   ]
  },
  {
   "attachments": {},
   "cell_type": "markdown",
   "id": "464abb80-eb07-4fa4-a987-11108c084ea6",
   "metadata": {},
   "source": [
    "## Visualize the split of predicted target"
   ]
  },
  {
   "cell_type": "code",
   "execution_count": 38,
   "id": "b579b01a-8782-43a9-91ce-2f4ce997b014",
   "metadata": {},
   "outputs": [],
   "source": [
    "from hana_ml.visualizers.eda import EDAVisualizer"
   ]
  },
  {
   "cell_type": "code",
   "execution_count": 39,
   "id": "3c5e2937-0f09-4ad1-9a46-d95f49da1c82",
   "metadata": {},
   "outputs": [
    {
     "data": {
      "image/png": "[encoded data removed]",
      "text/plain": [
       "<Figure size 640x480 with 1 Axes>"
      ]
     },
     "metadata": {},
     "output_type": "display_data"
    }
   ],
   "source": [
    "EDAVisualizer().pie_plot(data=hdf_res, column='SCORE',\n",
    "                         legend=False, explode=0,\n",
    "                         startangle=90, counterclock=False\n",
    "                        );"
   ]
  },
  {
   "attachments": {},
   "cell_type": "markdown",
   "id": "4be43d11-dbd8-44ca-8d26-0c7f15189131",
   "metadata": {},
   "source": [
    "🤓 **Let's discuss**:\n",
    "* What we can say about this prediction"
   ]
  }
 ],
 "metadata": {
  "kernelspec": {
   "display_name": "Python 3 (ipykernel)",
   "language": "python",
   "name": "python3"
  },
  "language_info": {
   "codemirror_mode": {
    "name": "ipython",
    "version": 3
   },
   "file_extension": ".py",
   "mimetype": "text/x-python",
   "name": "python",
   "nbconvert_exporter": "python",
   "pygments_lexer": "ipython3",
   "version": "3.10.12"
  },
  "vscode": {
   "interpreter": {
    "hash": "9d081a5f1f467ba7b9337ca09e42f0c0ed4894bb4cce0c846263a933dc8b5e80"
   }
  }
 },
 "nbformat": 4,
 "nbformat_minor": 5
}
