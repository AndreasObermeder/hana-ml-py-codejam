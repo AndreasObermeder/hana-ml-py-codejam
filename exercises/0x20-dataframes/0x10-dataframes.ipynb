{
 "cells": [
  {
   "attachments": {},
   "cell_type": "markdown",
   "id": "4bcc6ef9",
   "metadata": {},
   "source": [
    "## Check SAP HANA Client for Python is installed"
   ]
  },
  {
   "cell_type": "code",
   "execution_count": null,
   "id": "c6866fbf-5ca6-45a5-a234-d0ad3db16545",
   "metadata": {},
   "outputs": [],
   "source": [
    "import hana_ml\n",
    "print(f\"SAP HANA Client for Python: {hana_ml.__version__}\")"
   ]
  },
  {
   "attachments": {},
   "cell_type": "markdown",
   "id": "550b84dd-b8c0-47e4-afa0-33b433bcd360",
   "metadata": {},
   "source": [
    "The latest version and its documentation can be checked at https://pypi.org/project/hana-ml/#history"
   ]
  },
  {
   "attachments": {},
   "cell_type": "markdown",
   "id": "09142be8-45ee-404a-bef3-52778e3fd6a2",
   "metadata": {},
   "source": [
    "## Load the user connection data and connect to the SAP HANA database instance\n",
    "\n",
    "👉🏻 Before running the next cell make sure [../0x00-setup/temp_user.ini](../0x00-setup/temp_user.ini) is copied to [../0x00-setup/user.ini](../0x00-setup/user.ini) and the user + password are set appropriately 👈🏻"
   ]
  },
  {
   "cell_type": "code",
   "execution_count": null,
   "id": "d94aaec7",
   "metadata": {},
   "outputs": [],
   "source": [
    "from hana_ml.algorithms.pal.utility import Settings\n",
    "myhost, myport, myuser, mypwd = Settings.load_config(\"../0x00-setup/user.ini\")"
   ]
  },
  {
   "cell_type": "code",
   "execution_count": null,
   "id": "33fce6e3",
   "metadata": {},
   "outputs": [],
   "source": [
    "from hana_ml import dataframe as hdf\n",
    "myconn=hdf.ConnectionContext(\n",
    "    address=myhost, \n",
    "    port=myport, \n",
    "    user=myuser,\n",
    "    password=mypwd\n",
    ")\n",
    "print(f\"Connected to SAP HANA db version {myconn.hana_version()} \\nat {myhost}:{myport} as user {myuser}\")"
   ]
  },
  {
   "attachments": {},
   "cell_type": "markdown",
   "id": "0235f6c2",
   "metadata": {},
   "source": [
    "## Execute an SQL query on SAP HANA database and get the result displayed"
   ]
  },
  {
   "cell_type": "code",
   "execution_count": null,
   "id": "5faa02d4",
   "metadata": {},
   "outputs": [],
   "source": [
    "print(f'Current user on the SAP HANA server: {myconn.sql(\"SELECT Current_User FROM DUMMY\").collect().CURRENT_USER[0]}')"
   ]
  },
  {
   "cell_type": "markdown",
   "id": "13633524",
   "metadata": {},
   "source": [
    "## Use HANA DataFrame and Pandas DataFrame"
   ]
  },
  {
   "cell_type": "code",
   "execution_count": null,
   "id": "fc84b745",
   "metadata": {},
   "outputs": [],
   "source": [
    "myconn.get_tables(schema='TITANIC')"
   ]
  },
  {
   "attachments": {},
   "cell_type": "markdown",
   "id": "ccab43d3",
   "metadata": {},
   "source": [
    "A table with data already exist in your SAP HANA database, so you use [the `table()` method](https://help.sap.com/doc/cd94b08fe2e041c2ba778374572ddba9/2023_1_QRC/en-US/hana_ml.dataframe.html#hana_ml.dataframe.ConnectionContext.table) to create a HANA DataFrame from an existing database table. "
   ]
  },
  {
   "cell_type": "code",
   "execution_count": null,
   "id": "1a034d0f",
   "metadata": {},
   "outputs": [],
   "source": [
    "hdf_train=myconn.table('TRAIN', schema='TITANIC')"
   ]
  },
  {
   "attachments": {},
   "cell_type": "markdown",
   "id": "ff9b0de9-c500-4b51-8d7c-8e635fb243b5",
   "metadata": {},
   "source": [
    "You can always use [the `select_statement` property](https://help.sap.com/doc/cd94b08fe2e041c2ba778374572ddba9/2023_1_QRC/en-US/hana_ml.dataframe.html#hana_ml.dataframe.DataFrame) to check the SQL SELECT statement that backs a HANA DataFrame. "
   ]
  },
  {
   "cell_type": "code",
   "execution_count": null,
   "id": "efe50e14",
   "metadata": {},
   "outputs": [],
   "source": [
    "hdf_train.select_statement"
   ]
  },
  {
   "cell_type": "markdown",
   "id": "bc91cab5-9616-4f94-8d3f-63b80710d577",
   "metadata": {},
   "source": [
    "HANA DataFrame represents only SQL SELECT statement, but does not store data..."
   ]
  },
  {
   "cell_type": "code",
   "execution_count": null,
   "id": "ef820a1b",
   "metadata": {},
   "outputs": [],
   "source": [
    "hdf_train_first10recs=hdf_train.head(10)"
   ]
  },
  {
   "cell_type": "code",
   "execution_count": null,
   "id": "5a8d55bf-491e-44b9-9270-7d4d9b7f6d60",
   "metadata": {},
   "outputs": [],
   "source": [
    "hdf_train_first10recs.select_statement"
   ]
  },
  {
   "cell_type": "markdown",
   "id": "b279daf3-4fd7-498a-9f45-a0729fb5589c",
   "metadata": {},
   "source": [
    "...until [a `collect()` method](https://help.sap.com/doc/cd94b08fe2e041c2ba778374572ddba9/2023_1_QRC/en-US/hana_ml.dataframe.html#hana_ml.dataframe.DataFrame.collect) is executed, which returns a result as a Pandas dataframe on a client side"
   ]
  },
  {
   "cell_type": "code",
   "execution_count": null,
   "id": "6a9f6952-0a76-4350-af87-a4215ca6d5aa",
   "metadata": {},
   "outputs": [],
   "source": [
    "hdf_train_first10recs.collect()"
   ]
  },
  {
   "cell_type": "markdown",
   "id": "41ea53a8-c225-4717-81d6-5dfb8f240c3a",
   "metadata": {},
   "source": [
    "You use [HANA `DataFrame` methods](https://help.sap.com/doc/cd94b08fe2e041c2ba778374572ddba9/2023_1_QRC/en-US/hana_ml.dataframe.html#hana_ml.dataframe.DataFrame) to query the data from SAP HANA database."
   ]
  },
  {
   "cell_type": "code",
   "execution_count": null,
   "id": "45a3d63d-b91c-4412-b55a-eea9b78fa48c",
   "metadata": {},
   "outputs": [],
   "source": [
    "print(hdf_train.value_counts(['PClass']).select_statement)"
   ]
  },
  {
   "cell_type": "code",
   "execution_count": null,
   "id": "7c576022-8b0e-46c6-b85f-7c2442130cbf",
   "metadata": {},
   "outputs": [],
   "source": [
    "hdf_train.value_counts(['PClass']).collect()"
   ]
  },
  {
   "cell_type": "code",
   "execution_count": null,
   "id": "9cacebc6-e43e-42bf-867b-53b759248c4c",
   "metadata": {},
   "outputs": [],
   "source": [
    "print(hdf_train.value_counts(['PClass']).sort('NUM_PClass', desc=True).select_statement)"
   ]
  },
  {
   "cell_type": "code",
   "execution_count": null,
   "id": "765ca3fa-28c7-43df-be77-cdd8cc686bde",
   "metadata": {},
   "outputs": [],
   "source": [
    "hdf_train.value_counts(['PClass']).sort('NUM_PClass', desc=True).collect()"
   ]
  },
  {
   "cell_type": "markdown",
   "id": "dfe23c4c-9c71-4e28-910f-8165b6021c70",
   "metadata": {},
   "source": [
    "You use [Pandas `DataFrame` and/or `Series`](https://pandas.pydata.org/docs/user_guide/10min.html#minutes-to-pandas) methods to query the data returned to a client as a result of the `collect()` method."
   ]
  },
  {
   "cell_type": "code",
   "execution_count": null,
   "id": "91cb7fa5-a216-4812-a54e-3967a6125950",
   "metadata": {},
   "outputs": [],
   "source": [
    "hdf_train.value_counts(['PClass']).collect().sort_values('NUM_PClass')"
   ]
  },
  {
   "attachments": {},
   "cell_type": "markdown",
   "id": "3c7ec115-6c8b-42dd-b840-8fdaf805c384",
   "metadata": {},
   "source": [
    "🤓 **Let's discuss**:\n",
    "1. HANA DataFrames\n",
    "2. Pandas DataFrames/Series"
   ]
  }
 ],
 "metadata": {
  "kernelspec": {
   "display_name": "Python 3 (ipykernel)",
   "language": "python",
   "name": "python3"
  },
  "language_info": {
   "codemirror_mode": {
    "name": "ipython",
    "version": 3
   },
   "file_extension": ".py",
   "mimetype": "text/x-python",
   "name": "python",
   "nbconvert_exporter": "python",
   "pygments_lexer": "ipython3",
   "version": "3.10.12"
  }
 },
 "nbformat": 4,
 "nbformat_minor": 5
}
