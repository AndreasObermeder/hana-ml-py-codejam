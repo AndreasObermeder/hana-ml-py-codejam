{
 "cells": [
  {
   "attachments": {},
   "cell_type": "markdown",
   "id": "f57177d5",
   "metadata": {},
   "source": [
    "# Load the user connection data and connect to the SAP HANA database instance\n",
    "\n",
    "Before running the next cell make sure [../0x00-setup/temp_user.ini](../0x00-setup/temp_user.ini) is copied to [../0x00-setup/user.ini](../0x00-setup/user.ini) and the user + password are set appropriately."
   ]
  },
  {
   "cell_type": "code",
   "execution_count": null,
   "id": "65c2aa83",
   "metadata": {},
   "outputs": [],
   "source": [
    "from hana_ml.algorithms.pal.utility import Settings\n",
    "myhost, myport, myuser, mypwd = Settings.load_config(\"../0x00-setup/user.ini\")"
   ]
  },
  {
   "cell_type": "code",
   "execution_count": null,
   "id": "9c952d1d-ee68-4f5d-9a2f-795e9e3ac83c",
   "metadata": {},
   "outputs": [],
   "source": [
    "from hana_ml import dataframe as hdf\n",
    "myconn=hdf.ConnectionContext(\n",
    "    address=myhost, \n",
    "    port=myport, \n",
    "    user=myuser,\n",
    "    password=mypwd\n",
    ")\n",
    "print(f\"Connected to SAP HANA db version {myconn.hana_version()} \\nat {myhost}:{myport} as user {myuser}\")"
   ]
  },
  {
   "cell_type": "code",
   "execution_count": null,
   "id": "620ea433-4a3d-4109-9e94-1f111a89b32c",
   "metadata": {},
   "outputs": [],
   "source": [
    "print(myconn.sql(\"SELECT NOW() FROM DUMMY\").collect().CURRENT_TIMESTAMP[0])"
   ]
  },
  {
   "attachments": {},
   "cell_type": "markdown",
   "id": "bb1afdec-6de1-4110-861e-69d4899e8dfb",
   "metadata": {},
   "source": [
    "# Tables from SAP HANA"
   ]
  },
  {
   "cell_type": "code",
   "execution_count": null,
   "id": "00efbb56-b3ca-48a4-9c2e-b5ca9bc5965f",
   "metadata": {},
   "outputs": [],
   "source": [
    "hdf_titanic_train=myconn.table('TRAIN', schema='TITANIC')"
   ]
  },
  {
   "attachments": {},
   "cell_type": "markdown",
   "id": "96bbfc41-6881-4397-94fa-bc79761dbe07",
   "metadata": {},
   "source": [
    "# Random Decision Tree classification\n",
    "\n",
    "aka RDT"
   ]
  },
  {
   "attachments": {},
   "cell_type": "markdown",
   "id": "6f983fd4",
   "metadata": {},
   "source": [
    "🤓 **Let's discuss**:\n",
    "1. Supervised vs Unsupervised\n",
    "1. Classification vs Regression\n",
    "1. Classification algorithms"
   ]
  },
  {
   "attachments": {},
   "cell_type": "markdown",
   "id": "e08c6ec0",
   "metadata": {},
   "source": [
    "Random Decision Tree: https://help.sap.com/doc/cd94b08fe2e041c2ba778374572ddba9/2023_1_QRC/en-US/pal/algorithms/hana_ml.algorithms.pal.trees.RDTClassifier.html"
   ]
  },
  {
   "cell_type": "code",
   "execution_count": null,
   "id": "a06f832b-72c1-4a4c-aca0-6f2b251f1ab8",
   "metadata": {},
   "outputs": [],
   "source": [
    "from hana_ml.algorithms.pal.unified_classification import UnifiedClassification"
   ]
  },
  {
   "cell_type": "markdown",
   "id": "fc19d166-f72f-4d79-a547-87c9aec4618f",
   "metadata": {},
   "source": [
    "UnifiedClassification offers a varity of classfication algorithms. We use RandomDecisionTree for training.\n",
    "\n",
    "Other options are: \n",
    "- 'DecisionTree'\n",
    "- 'HybridGradientBoostingTree'\n",
    "- 'LogisticRegression'\n",
    "- 'MLP'\n",
    "- 'NaiveBayes'\n",
    "- 'RandomDecisionTree'\n",
    "- 'SVM'"
   ]
  },
  {
   "attachments": {},
   "cell_type": "markdown",
   "id": "39ea7998-da84-4d66-986a-f3aa7a9b3a09",
   "metadata": {},
   "source": [
    "### The simplest training call\n",
    "\n",
    "RDT Classifier has many parameters to influence the execution of the fitting algorithm: https://help.sap.com/doc/cd94b08fe2e041c2ba778374572ddba9/2023_1_QRC/en-US/pal/algorithms/hana_ml.algorithms.pal.trees.RDTClassifier.html#rdtclassifier, but for now you run it with the default parameters only.\n",
    "\n",
    "You will use Unified Classifier class to create an RDT class: https://help.sap.com/doc/cd94b08fe2e041c2ba778374572ddba9/2023_1_QRC/en-US/pal/algorithms/hana_ml.algorithms.pal.unified_classification.UnifiedClassification.html#unifiedclassification"
   ]
  },
  {
   "cell_type": "code",
   "execution_count": null,
   "id": "c3924184-9714-40e4-b044-c911ea6aa75a",
   "metadata": {},
   "outputs": [],
   "source": [
    "uc_rdt = UnifiedClassification(func='RandomDecisionTree')"
   ]
  },
  {
   "attachments": {},
   "cell_type": "markdown",
   "id": "32131743",
   "metadata": {},
   "source": [
    "The `fit()` procedure returns a fitted object: https://help.sap.com/doc/cd94b08fe2e041c2ba778374572ddba9/2023_1_QRC/en-US/pal/algorithms/hana_ml.algorithms.pal.trees.RDTClassifier.html#hana_ml.algorithms.pal.trees.RDTClassifier.fit, ie. populated attributes, like \n",
    "- `model_DataFrame`: Trained model content.\n",
    "- `feature_importances_DataFrame`: The feature importance (the higher, the more important the feature).\n",
    "- `oob_error_DataFrame`: Out-of-bag error rate or mean squared error for random decision trees up to indexed tree. Set to None if calculate_oob is False.\n",
    "- `confusion_matrix_DataFrame`: Confusion matrix used to evaluate the performance of classification algorithms.\n",
    "\n",
    "To understand these structures better check the corresponding PAL documentation: https://help.sap.com/docs/HANA_CLOUD_DATABASE/319d36de4fd64ac3afbf91b1fb3ce8de/9ad576abab8f497ab2ade2b86c1ff61a.html#_sys_afl.pal_random_decision_trees\n",
    "\n",
    "To understand the mapping between PAL objects and fields in SQL and in Python, check https://help.sap.com/doc/cd94b08fe2e041c2ba778374572ddba9/2023_1_QRC/en-US/pal/parameter_mappings.html (or https://help.sap.com/doc/cd94b08fe2e041c2ba778374572ddba9/2023_1_QRC/en-US/_static/extra_parameter_mappings.html#/ for the full screen)"
   ]
  },
  {
   "cell_type": "markdown",
   "id": "34fe136c-77f8-42cd-83c0-525ce8a5ee6f",
   "metadata": {},
   "source": [
    "The simplest training (fit) call: only the key and the label (the target) of the dataset"
   ]
  },
  {
   "cell_type": "code",
   "execution_count": null,
   "id": "39ea46c4-a368-4765-90fd-d6419378a04e",
   "metadata": {},
   "outputs": [],
   "source": [
    "uc_rdt.fit(\n",
    "    data=hdf_titanic_train,\n",
    "    key='PassengerId', \n",
    "    label='Survived'\n",
    ");"
   ]
  },
  {
   "cell_type": "code",
   "execution_count": null,
   "id": "86e938dc-d30d-46e2-b84a-bd6c3a4dfff1",
   "metadata": {
    "tags": []
   },
   "outputs": [],
   "source": [
    "#Check fit procedure executed on the db side \n",
    "print(uc_rdt.get_fit_execute_statement())"
   ]
  },
  {
   "attachments": {},
   "cell_type": "markdown",
   "id": "468b2298",
   "metadata": {},
   "source": [
    "You can see SAP HANA's SQLScript wrapper generated for `_SYS_AFL.PAL_UNIFIED_CLASSIFICATION` procedure: https://help.sap.com/docs/HANA_CLOUD_DATABASE/319d36de4fd64ac3afbf91b1fb3ce8de/8bd88cf29d9a45d0b52daad2653290d4.html#_sys_afl.pal_unified_classification"
   ]
  },
  {
   "attachments": {},
   "cell_type": "markdown",
   "id": "a2b77acd",
   "metadata": {},
   "source": [
    "## Analyze programmatically the Classifier's..."
   ]
  },
  {
   "attachments": {},
   "cell_type": "markdown",
   "id": "161f8047",
   "metadata": {},
   "source": [
    "...parameters.\n",
    "\n",
    "For the complete list of possible parameters: https://help.sap.com/docs/HANA_CLOUD_DATABASE/319d36de4fd64ac3afbf91b1fb3ce8de/6c931c4a39d24229ae242509a00da9a8.html"
   ]
  },
  {
   "cell_type": "code",
   "execution_count": null,
   "id": "3a2bacf6-d560-4f5f-9f75-74dd122f1127",
   "metadata": {},
   "outputs": [],
   "source": [
    "display(uc_rdt.get_parameters())"
   ]
  },
  {
   "attachments": {},
   "cell_type": "markdown",
   "id": "3eac3437",
   "metadata": {},
   "source": [
    "...output from the fitting procedure"
   ]
  },
  {
   "cell_type": "code",
   "execution_count": null,
   "id": "f889b0dc",
   "metadata": {},
   "outputs": [],
   "source": [
    "uc_rdt.model_"
   ]
  },
  {
   "attachments": {},
   "cell_type": "markdown",
   "id": "ad8956c4",
   "metadata": {},
   "source": [
    "...but not all output tables are populated, when there is no split of training data into training and testing dataset (which is the topic of the next exercise)"
   ]
  },
  {
   "cell_type": "code",
   "execution_count": null,
   "id": "4c6aa035",
   "metadata": {},
   "outputs": [],
   "source": [
    "for tab in uc_rdt.model_:\n",
    "    print(f\"{tab.select_statement} returns {tab.count()} record(s)\")"
   ]
  },
  {
   "attachments": {},
   "cell_type": "markdown",
   "id": "3567744e",
   "metadata": {},
   "source": [
    "...model (stored at the position 0)"
   ]
  },
  {
   "cell_type": "code",
   "execution_count": null,
   "id": "f225b7e9-2c11-4022-a36f-bef9cda9f278",
   "metadata": {},
   "outputs": [],
   "source": [
    "hdf_uc_rdt_model=uc_rdt.model_[0]\n",
    "display(hdf_uc_rdt_model.head(3).select(hdf_uc_rdt_model.columns[2]).collect())"
   ]
  },
  {
   "attachments": {},
   "cell_type": "markdown",
   "id": "c0cb93ca",
   "metadata": {},
   "source": [
    "...feature importance (stored at the position 4), or..."
   ]
  },
  {
   "cell_type": "code",
   "execution_count": null,
   "id": "71917eaa",
   "metadata": {},
   "outputs": [],
   "source": [
    "uc_rdt.model_[4].collect()"
   ]
  },
  {
   "attachments": {},
   "cell_type": "markdown",
   "id": "cbf987f9",
   "metadata": {},
   "source": [
    "...or using an attribute `uc_rdt.importance_`"
   ]
  },
  {
   "cell_type": "code",
   "execution_count": null,
   "id": "7ab3342c",
   "metadata": {},
   "outputs": [],
   "source": [
    "uc_rdt.importance_.sort('IMPORTANCE', desc=True).collect()"
   ]
  },
  {
   "attachments": {},
   "cell_type": "markdown",
   "id": "b6e79156-8d0f-408c-b4d8-9e9013b8bde0",
   "metadata": {},
   "source": [
    "## Analyze visually the Classifier -- by generating a model report"
   ]
  },
  {
   "cell_type": "code",
   "execution_count": null,
   "id": "3b0659e3-6610-42d0-88ec-260dffd9d5fb",
   "metadata": {
    "slideshow": {
     "slide_type": "slide"
    }
   },
   "outputs": [],
   "source": [
    "from hana_ml.visualizers.unified_report import UnifiedReport\n",
    "UnifiedReport(uc_rdt).build().display()"
   ]
  },
  {
   "attachments": {},
   "cell_type": "markdown",
   "id": "fadcb922-375e-4832-ae47-1a3eb58aed9f",
   "metadata": {},
   "source": [
    "🤓 **Let's discuss**:\n",
    "* The Model Report"
   ]
  },
  {
   "attachments": {},
   "cell_type": "markdown",
   "id": "6843fd71-c247-4bb3-a57b-604075b34e56",
   "metadata": {},
   "source": [
    "## Debrief the model"
   ]
  },
  {
   "attachments": {},
   "cell_type": "markdown",
   "id": "33f35937",
   "metadata": {},
   "source": [
    "The raw storage of the model is difficult to interpret..."
   ]
  },
  {
   "cell_type": "code",
   "execution_count": null,
   "id": "52685f9d",
   "metadata": {},
   "outputs": [],
   "source": [
    "uc_rdt.model_[0].head(5).collect()"
   ]
  },
  {
   "attachments": {},
   "cell_type": "markdown",
   "id": "06c21522",
   "metadata": {},
   "source": [
    "...but you can use the module `hana_ml.visualizers.model_debriefing` to get a representation of a visualizer for tree model.\n",
    "\n",
    "Visualize tree model by data in [DOT](https://en.wikipedia.org/wiki/DOT_%28graph_description_language%29) format: https://help.sap.com/doc/cd94b08fe2e041c2ba778374572ddba9/2023_1_QRC/en-US/hana_ml.visualizers.html#hana_ml.visualizers.model_debriefing.TreeModelDebriefing.tree_debrief_with_dot"
   ]
  },
  {
   "cell_type": "code",
   "execution_count": null,
   "id": "5576a5ad",
   "metadata": {},
   "outputs": [],
   "source": [
    "from hana_ml.visualizers.model_debriefing import TreeModelDebriefing"
   ]
  },
  {
   "cell_type": "code",
   "execution_count": null,
   "id": "273d7910",
   "metadata": {},
   "outputs": [],
   "source": [
    "TreeModelDebriefing.tree_debrief_with_dot(uc_rdt.model_[0]);"
   ]
  },
  {
   "attachments": {},
   "cell_type": "markdown",
   "id": "e22f93a3-42f8-48f0-9921-8d93fbc15d36",
   "metadata": {},
   "source": [
    "🤓 **Let's discuss**:\n",
    "* The Model Debriefing"
   ]
  },
  {
   "attachments": {},
   "cell_type": "markdown",
   "id": "3f6daf2a",
   "metadata": {},
   "source": [
    "# Call prediction"
   ]
  },
  {
   "cell_type": "code",
   "execution_count": null,
   "id": "5630e639-4ac1-4058-80fe-e7697798d81c",
   "metadata": {},
   "outputs": [],
   "source": [
    "hdf_titanic_test=myconn.table('TEST', schema='TITANIC')"
   ]
  },
  {
   "cell_type": "markdown",
   "id": "bda7acb5-6c06-4e7e-a6ad-c6f7eccee5d0",
   "metadata": {},
   "source": [
    "The test table has the same structure except missing the column `Survived`."
   ]
  },
  {
   "cell_type": "code",
   "execution_count": null,
   "id": "468af685-760b-4d97-ba71-68b707544033",
   "metadata": {},
   "outputs": [],
   "source": [
    "hdf_titanic_test.head(4).collect()"
   ]
  },
  {
   "cell_type": "code",
   "execution_count": null,
   "id": "665df841-2464-42a0-885e-301cfaacc721",
   "metadata": {},
   "outputs": [],
   "source": [
    "hdf_res = uc_rdt.predict(hdf_titanic_test, key = 'PassengerId')"
   ]
  },
  {
   "cell_type": "code",
   "execution_count": null,
   "id": "ca5b4353-10ea-42c6-816d-a9ecc6e5795f",
   "metadata": {},
   "outputs": [],
   "source": [
    "hdf_res.collect()"
   ]
  },
  {
   "attachments": {},
   "cell_type": "markdown",
   "id": "6086c0f0-fab3-4eea-b292-7629b9218e80",
   "metadata": {},
   "source": [
    "🤓 **Let's discuss**:\n",
    "- The structure of the result table `hdf_res`"
   ]
  },
  {
   "cell_type": "code",
   "execution_count": null,
   "id": "c14290c7-652f-4ee2-b879-0fd24494e834",
   "metadata": {
    "tags": []
   },
   "outputs": [],
   "source": [
    "display(eval(hdf_res.sort(['CONFIDENCE'], desc=True).head(1).select('REASON_CODE').collect().iloc[0][0]))"
   ]
  },
  {
   "cell_type": "code",
   "execution_count": null,
   "id": "5ec38778",
   "metadata": {},
   "outputs": [],
   "source": [
    "display(eval(hdf_res.sort(['CONFIDENCE'], desc=True).tail(1).select('REASON_CODE').collect().iloc[0][0]))"
   ]
  },
  {
   "attachments": {},
   "cell_type": "markdown",
   "id": "464abb80-eb07-4fa4-a987-11108c084ea6",
   "metadata": {},
   "source": [
    "## Visualize the split of predicted target"
   ]
  },
  {
   "cell_type": "code",
   "execution_count": null,
   "id": "b579b01a-8782-43a9-91ce-2f4ce997b014",
   "metadata": {},
   "outputs": [],
   "source": [
    "from hana_ml.visualizers.eda import EDAVisualizer"
   ]
  },
  {
   "cell_type": "code",
   "execution_count": null,
   "id": "3c5e2937-0f09-4ad1-9a46-d95f49da1c82",
   "metadata": {},
   "outputs": [],
   "source": [
    "EDAVisualizer().pie_plot(data=hdf_res, column='SCORE',\n",
    "                         legend=False, explode=0,\n",
    "                         startangle=90, counterclock=False\n",
    "                        );"
   ]
  },
  {
   "attachments": {},
   "cell_type": "markdown",
   "id": "cde22b17-327e-4973-86f7-b5cabb2d76d0",
   "metadata": {},
   "source": [
    "## Compare to the [ground truth](https://en.wikipedia.org/wiki/Ground_truth#Statistics_and_machine_learning)"
   ]
  },
  {
   "cell_type": "code",
   "execution_count": null,
   "id": "63fe3a21-d559-4bdf-bdb4-2c5d4e86ca52",
   "metadata": {},
   "outputs": [],
   "source": [
    "hdf_titanic_complete=myconn.table('COMPLETE', schema='TITANIC')"
   ]
  },
  {
   "cell_type": "code",
   "execution_count": null,
   "id": "6a60639a-9de7-4c0b-b586-bb1673016b81",
   "metadata": {},
   "outputs": [],
   "source": [
    "hdf_titanic_complete.head(4).collect()"
   ]
  },
  {
   "cell_type": "code",
   "execution_count": null,
   "id": "48e59045-3b18-454f-80d7-f38feb4ed440",
   "metadata": {},
   "outputs": [],
   "source": [
    "hdf_titanic_complete.count()"
   ]
  },
  {
   "cell_type": "code",
   "execution_count": null,
   "id": "ce400a4c-06dd-4d89-b7d6-559c804f1eb9",
   "metadata": {},
   "outputs": [],
   "source": [
    "# Join prediction results with a test table...\n",
    "hdf_res_ext=hdf_res.set_index('PassengerId').join(hdf_titanic_test.set_index('PassengerId'))"
   ]
  },
  {
   "cell_type": "code",
   "execution_count": null,
   "id": "1aa7062a",
   "metadata": {},
   "outputs": [],
   "source": [
    "# ...to get all attributes (variables) and prediction results in one HANA DataFrame\n",
    "hdf_res_ext.head(3).collect()"
   ]
  },
  {
   "cell_type": "code",
   "execution_count": null,
   "id": "71a9de53-a6c1-4245-87df-608ee6f79ca7",
   "metadata": {},
   "outputs": [],
   "source": [
    "# Join the DataFrame with prediction results and the DataFrame with complete dataset (the ground truth) \n",
    "hdf_res_incl_groundtruth=(hdf_res_ext.set_index(['Name', 'Ticket']).join(hdf_titanic_complete.set_index(['name', 'ticket']))\n",
    "                 .select('PassengerId', 'Name', 'Ticket', 'SCORE','survived',('1-ABS(SCORE-\"survived\")', 'IS_CORRECT'))\n",
    "                 .cast('SCORE', 'INT')\n",
    "\n",
    ")"
   ]
  },
  {
   "cell_type": "code",
   "execution_count": null,
   "id": "725fad47-6f90-494e-8b2b-89418b4e4cc2",
   "metadata": {},
   "outputs": [],
   "source": [
    "hdf_res_incl_groundtruth.head(3).collect()"
   ]
  },
  {
   "attachments": {},
   "cell_type": "markdown",
   "id": "db83a5d5-0c20-4147-8908-6f994eb68423",
   "metadata": {},
   "source": [
    "### Check [Accuracy](https://en.wikipedia.org/wiki/Accuracy_and_precision#In_binary_classification) of predicted results"
   ]
  },
  {
   "cell_type": "code",
   "execution_count": null,
   "id": "7722742d-2e3f-4bcf-8c19-2d05fbb3878f",
   "metadata": {},
   "outputs": [],
   "source": [
    "hdf_res_incl_groundtruth.select(('SUM(\"IS_CORRECT\")/COUNT(\"IS_CORRECT\")','Accuracy')).collect()"
   ]
  },
  {
   "attachments": {},
   "cell_type": "markdown",
   "id": "6455cb64-baa7-4e82-b4e9-4fc84d787e87",
   "metadata": {},
   "source": [
    "### Generate the [Confusion matrix](https://en.wikipedia.org/wiki/Confusion_matrix)"
   ]
  },
  {
   "cell_type": "code",
   "execution_count": null,
   "id": "e2beb19c-333e-48af-827d-3cc3ba12c220",
   "metadata": {},
   "outputs": [],
   "source": [
    "hdf_res_incl_groundtruth.agg(agg_list=[('count','PassengerId','COUNT')], group_by=['SCORE','survived']).collect()"
   ]
  },
  {
   "cell_type": "code",
   "execution_count": null,
   "id": "a15c72d4-571f-4d55-8181-6cb9a92a6c10",
   "metadata": {},
   "outputs": [],
   "source": [
    "df_res_incl_gt_pivot=(hdf_res_incl_groundtruth\n",
    " .pivot_table(values='PassengerId', index='SCORE', columns='survived', aggfunc='count')\n",
    " .collect()\n",
    ");"
   ]
  },
  {
   "cell_type": "code",
   "execution_count": null,
   "id": "c34d3c36-4b9f-4a3c-bcba-32bd42302af1",
   "metadata": {},
   "outputs": [],
   "source": [
    "# Order columns and rows by 0,1, and remove the Pandas DataFrame index\n",
    "(df_res_incl_gt_pivot[[df_res_incl_gt_pivot.columns[0]]+sorted(df_res_incl_gt_pivot.columns[1:])]\n",
    " .sort_values(by=df_res_incl_gt_pivot.columns[0], axis=0)\n",
    " .style.hide(axis='index')\n",
    ")"
   ]
  },
  {
   "cell_type": "markdown",
   "id": "f39264b1-5532-44fe-889c-fb0c2a364c32",
   "metadata": {},
   "source": [
    "## Using `metrics`"
   ]
  },
  {
   "cell_type": "code",
   "execution_count": null,
   "id": "2333c5a2-409d-4075-acfe-6e40fc02ec20",
   "metadata": {},
   "outputs": [],
   "source": [
    "import hana_ml.algorithms.pal.metrics as pal_metrics"
   ]
  },
  {
   "cell_type": "markdown",
   "id": "6bf7fb0a-c553-48f8-8f4a-4698df7c7482",
   "metadata": {},
   "source": [
    "Accuracy score: https://help.sap.com/doc/cd94b08fe2e041c2ba778374572ddba9/2023_1_QRC/en-US/pal/algorithms/hana_ml.algorithms.pal.metrics.accuracy_score.html#accuracy-score"
   ]
  },
  {
   "cell_type": "code",
   "execution_count": null,
   "id": "1f491568-0c87-4c92-b02a-d777815ad921",
   "metadata": {},
   "outputs": [],
   "source": [
    "pal_metrics.accuracy_score(data=hdf_res_incl_groundtruth, label_true='survived', label_pred='SCORE')"
   ]
  },
  {
   "cell_type": "markdown",
   "id": "a3de9e4a-90ca-4e8a-b307-dea2974ae2e1",
   "metadata": {},
   "source": [
    "Confusion Matrix: https://help.sap.com/doc/cd94b08fe2e041c2ba778374572ddba9/2023_1_QRC/en-US/pal/algorithms/hana_ml.algorithms.pal.metrics.confusion_matrix.html#confusion-matrix"
   ]
  },
  {
   "cell_type": "code",
   "execution_count": null,
   "id": "b6140cbd-8fa5-4131-8d36-6673f3b68345",
   "metadata": {},
   "outputs": [],
   "source": [
    "hdf_cm, hdf_cr = pal_metrics.confusion_matrix(data=hdf_res_incl_groundtruth, key='PassengerId', label_true='survived', label_pred='SCORE')"
   ]
  },
  {
   "cell_type": "code",
   "execution_count": null,
   "id": "c286ee82-7c96-4345-bb60-11455b9ea4a9",
   "metadata": {},
   "outputs": [],
   "source": [
    "hdf_cm.collect()"
   ]
  },
  {
   "cell_type": "code",
   "execution_count": null,
   "id": "48d1b365-1934-41df-ba3e-77d5a3be9ea1",
   "metadata": {},
   "outputs": [],
   "source": [
    "hdf_cr.collect()"
   ]
  },
  {
   "cell_type": "code",
   "execution_count": null,
   "id": "1ad21d05-1cd1-4075-a455-33ec57d26baa",
   "metadata": {},
   "outputs": [],
   "source": [
    "from hana_ml.visualizers.metrics import MetricsVisualizer\n",
    "MetricsVisualizer().plot_confusion_matrix(hdf_cm, normalize=False);"
   ]
  },
  {
   "attachments": {},
   "cell_type": "markdown",
   "id": "a81d667c-d01b-4fb3-87d1-f173bfaa61e9",
   "metadata": {},
   "source": [
    "🤓 **Let's discuss**:\n",
    "- What you have learned so far"
   ]
  },
  {
   "cell_type": "code",
   "execution_count": null,
   "id": "8f60ac55-e0fe-44b1-8ce9-73623ac96db9",
   "metadata": {},
   "outputs": [],
   "source": []
  }
 ],
 "metadata": {
  "kernelspec": {
   "display_name": "Python 3 (ipykernel)",
   "language": "python",
   "name": "python3"
  },
  "language_info": {
   "codemirror_mode": {
    "name": "ipython",
    "version": 3
   },
   "file_extension": ".py",
   "mimetype": "text/x-python",
   "name": "python",
   "nbconvert_exporter": "python",
   "pygments_lexer": "ipython3",
   "version": "3.10.12"
  },
  "vscode": {
   "interpreter": {
    "hash": "9d081a5f1f467ba7b9337ca09e42f0c0ed4894bb4cce0c846263a933dc8b5e80"
   }
  }
 },
 "nbformat": 4,
 "nbformat_minor": 5
}
