{
 "cells": [
  {
   "cell_type": "markdown",
   "id": "102584e4",
   "metadata": {},
   "source": [
    "## Load the user connection data and connect to the SAP HANA database instance\n",
    "\n",
    "Before running the next cell make sure [../0x00-setup/temp_user.ini](../0x00-setup/temp_user.ini) is copied to [../0x00-setup/user.ini](../0x00-setup/user.ini) and the user + password are set appropriately."
   ]
  },
  {
   "cell_type": "code",
   "execution_count": null,
   "id": "851db6ec",
   "metadata": {},
   "outputs": [],
   "source": [
    "from hana_ml.algorithms.pal.utility import Settings\n",
    "myhost, myport, myuser, mypwd = Settings.load_config(\"../0x00-setup/user.ini\")"
   ]
  },
  {
   "cell_type": "code",
   "execution_count": null,
   "id": "1e6ebf84-2cff-49a9-b6dc-757a5b906a34",
   "metadata": {},
   "outputs": [],
   "source": [
    "from hana_ml import dataframe as hdf\n",
    "myconn=hdf.ConnectionContext(\n",
    "    address=myhost, \n",
    "    port=myport, \n",
    "    user=myuser,\n",
    "    password=mypwd\n",
    ")\n",
    "print(f\"Connected to SAP HANA db version {myconn.hana_version()} \\nat {myhost}:{myport} as user {myuser}\")"
   ]
  },
  {
   "cell_type": "code",
   "execution_count": null,
   "id": "19475af6-6e12-4fb3-8df9-50ce54de9194",
   "metadata": {},
   "outputs": [],
   "source": [
    "print(myconn.sql(\"SELECT NOW() FROM DUMMY\").collect().CURRENT_TIMESTAMP[0])"
   ]
  },
  {
   "attachments": {},
   "cell_type": "markdown",
   "id": "011cd7c0",
   "metadata": {},
   "source": [
    "# Tables from SAP HANA"
   ]
  },
  {
   "cell_type": "code",
   "execution_count": null,
   "id": "f9ea3d57-cf04-4d6b-b2c5-600496ec9774",
   "metadata": {},
   "outputs": [],
   "source": [
    "hdf_train=myconn.table('TRAIN', schema='TITANIC')"
   ]
  },
  {
   "cell_type": "markdown",
   "id": "ad3c0674-c020-4a91-886f-5321aed972aa",
   "metadata": {},
   "source": [
    "## The first look at the table"
   ]
  },
  {
   "cell_type": "code",
   "execution_count": null,
   "id": "ef8049b0-1e35-44e0-bd6a-47d6c62b45d4",
   "metadata": {},
   "outputs": [],
   "source": [
    "hdf_train.get_table_structure()"
   ]
  },
  {
   "cell_type": "markdown",
   "id": "0ef4a753-ebad-4fed-82a9-4898ecf1e8d1",
   "metadata": {},
   "source": [
    "Let's check various statistics of the dataset using [a `describe()` method](https://help.sap.com/doc/cd94b08fe2e041c2ba778374572ddba9/2023_1_QRC/en-US/hana_ml.dataframe.html#hana_ml.dataframe.DataFrame.describe)"
   ]
  },
  {
   "cell_type": "code",
   "execution_count": null,
   "id": "cf721a96-b54c-426d-80a7-5db8fad2ed9f",
   "metadata": {},
   "outputs": [],
   "source": [
    "hdf_train.describe().collect()"
   ]
  },
  {
   "attachments": {},
   "cell_type": "markdown",
   "id": "3e6c971c-cbf8-47b4-a7eb-f4ccc4719591",
   "metadata": {},
   "source": [
    "🤓 **Let's discuss**:\n",
    "- What can we read from the dataset above"
   ]
  },
  {
   "cell_type": "markdown",
   "id": "bbcb5489-b324-4ab8-b72f-bf6a3b4cd876",
   "metadata": {
    "tags": []
   },
   "source": [
    "### Unified Report"
   ]
  },
  {
   "attachments": {},
   "cell_type": "markdown",
   "id": "98fda8f6",
   "metadata": {},
   "source": [
    "Unified Reports: https://help.sap.com/doc/cd94b08fe2e041c2ba778374572ddba9/2023_1_QRC/en-US/hana_ml.visualizers.html#module-hana_ml.visualizers.unified_report"
   ]
  },
  {
   "cell_type": "code",
   "execution_count": null,
   "id": "e59c1c07-8147-4426-b464-2cce9345cc5b",
   "metadata": {},
   "outputs": [],
   "source": [
    "from hana_ml.visualizers.unified_report import UnifiedReport"
   ]
  },
  {
   "cell_type": "code",
   "execution_count": null,
   "id": "e7d96f11",
   "metadata": {},
   "outputs": [],
   "source": [
    "UnifiedReport(obj=hdf_train).build(key='PassengerId').display()"
   ]
  },
  {
   "attachments": {},
   "cell_type": "markdown",
   "id": "1d40053d-43e4-4eac-ab32-5328aa89ab9e",
   "metadata": {},
   "source": [
    "🤓 **Let's discuss**:\n",
    "1. What can be found in the dataset's report above"
   ]
  }
 ],
 "metadata": {
  "kernelspec": {
   "display_name": "Python 3 (ipykernel)",
   "language": "python",
   "name": "python3"
  },
  "language_info": {
   "codemirror_mode": {
    "name": "ipython",
    "version": 3
   },
   "file_extension": ".py",
   "mimetype": "text/x-python",
   "name": "python",
   "nbconvert_exporter": "python",
   "pygments_lexer": "ipython3",
   "version": "3.10.12"
  }
 },
 "nbformat": 4,
 "nbformat_minor": 5
}
