{
 "cells": [
  {
   "cell_type": "markdown",
   "id": "102584e4",
   "metadata": {},
   "source": [
    "## Load the user connection data and connect to the SAP HANA database instance\n",
    "\n",
    "Before running the next cell make sure [../0x00-setup/temp_user.ini](../0x00-setup/temp_user.ini) is copied to [../0x00-setup/user.ini](../0x00-setup/user.ini) and the user + password are set appropriately."
   ]
  },
  {
   "cell_type": "code",
   "execution_count": null,
   "id": "851db6ec",
   "metadata": {},
   "outputs": [],
   "source": [
    "from hana_ml.algorithms.pal.utility import Settings\n",
    "myhost, myport, myuser, mypwd = Settings.load_config(\"../0x00-setup/user.ini\")"
   ]
  },
  {
   "cell_type": "code",
   "execution_count": null,
   "id": "28730fbb-48ab-485f-b777-7ecf63ae8c92",
   "metadata": {},
   "outputs": [],
   "source": [
    "from hana_ml import dataframe as hdf\n",
    "myconn=hdf.ConnectionContext(\n",
    "    address=myhost, \n",
    "    port=myport, \n",
    "    user=myuser,\n",
    "    password=mypwd\n",
    ")\n",
    "print(f\"Connected to SAP HANA db version {myconn.hana_version()} \\nat {myhost}:{myport} as user {myuser}\")"
   ]
  },
  {
   "cell_type": "code",
   "execution_count": null,
   "id": "19475af6-6e12-4fb3-8df9-50ce54de9194",
   "metadata": {},
   "outputs": [],
   "source": [
    "print(myconn.sql(\"SELECT NOW() FROM DUMMY\").collect().CURRENT_TIMESTAMP[0])"
   ]
  },
  {
   "attachments": {},
   "cell_type": "markdown",
   "id": "011cd7c0",
   "metadata": {},
   "source": [
    "# Tables from SAP HANA"
   ]
  },
  {
   "cell_type": "code",
   "execution_count": null,
   "id": "f9ea3d57-cf04-4d6b-b2c5-600496ec9774",
   "metadata": {},
   "outputs": [],
   "source": [
    "hdf_train=myconn.table('TRAIN', schema='TITANIC')"
   ]
  },
  {
   "cell_type": "code",
   "execution_count": null,
   "id": "ef8049b0-1e35-44e0-bd6a-47d6c62b45d4",
   "metadata": {},
   "outputs": [],
   "source": [
    "hdf_train.get_table_structure()"
   ]
  },
  {
   "attachments": {},
   "cell_type": "markdown",
   "id": "7a78c45e",
   "metadata": {},
   "source": [
    "# Categorical and Continuous Variables\n",
    "\n",
    "Continuous variables are measured numerically, and have an infinite number of possible values.\n",
    "\n",
    "Categorical variables are also known as discrete or qualitative variables. \n",
    "\n",
    "Categorical variables can be further categorized as either nominal or ordinal.\n",
    "\n"
   ]
  },
  {
   "attachments": {},
   "cell_type": "markdown",
   "id": "a5d4832c-d5db-4b91-8e0b-fd0774849932",
   "metadata": {},
   "source": [
    "## Univariate Analysis\n",
    "\n",
    "[Univariate](https://en.wikipedia.org/wiki/Univariate_(statistics)) is a term to describe a type of data which consists of observations on only a single characteristic or attribute."
   ]
  },
  {
   "cell_type": "code",
   "execution_count": null,
   "id": "9ce3bc25",
   "metadata": {},
   "outputs": [],
   "source": [
    "label = ['Survived']\n",
    "categorical_features = ['PClass','Gender','Embarked']"
   ]
  },
  {
   "cell_type": "code",
   "execution_count": null,
   "id": "40288fd3-a9a1-431e-9320-72e251115272",
   "metadata": {},
   "outputs": [],
   "source": [
    "from hana_ml.algorithms.pal.stats import univariate_analysis"
   ]
  },
  {
   "cell_type": "code",
   "execution_count": null,
   "id": "2123ee69",
   "metadata": {},
   "outputs": [],
   "source": [
    "continuous, categorical = univariate_analysis(\n",
    "    data=hdf_train,\n",
    "    key='PassengerId',\n",
    "    categorical_variable=categorical_features + label)"
   ]
  },
  {
   "cell_type": "code",
   "execution_count": null,
   "id": "cc8c503b",
   "metadata": {},
   "outputs": [],
   "source": [
    "continuous.head(15).collect()"
   ]
  },
  {
   "cell_type": "code",
   "execution_count": null,
   "id": "63b7aa3a",
   "metadata": {},
   "outputs": [],
   "source": [
    "continuous.filter(condition=\"VARIABLE_NAME='Fare'\").collect()"
   ]
  },
  {
   "cell_type": "code",
   "execution_count": null,
   "id": "817c5105",
   "metadata": {},
   "outputs": [],
   "source": [
    "categorical.head(15).collect()"
   ]
  },
  {
   "cell_type": "code",
   "execution_count": null,
   "id": "864ef7d1",
   "metadata": {},
   "outputs": [],
   "source": [
    "categorical.filter(condition=\"VARIABLE_NAME='Survived'\").collect()"
   ]
  },
  {
   "attachments": {},
   "cell_type": "markdown",
   "id": "c91c24ba-4a66-4556-80fc-7946bdb24d00",
   "metadata": {},
   "source": [
    "🤓 **Let's discuss**:\n",
    "- Categorical vs Continuous Variables"
   ]
  },
  {
   "attachments": {},
   "cell_type": "markdown",
   "id": "917a7e5d-eebd-48fc-8ebd-a2c3c7027733",
   "metadata": {},
   "source": [
    "## Categorical variables evaluation (bar + pie charts)"
   ]
  },
  {
   "cell_type": "code",
   "execution_count": null,
   "id": "22f7ec1f",
   "metadata": {},
   "outputs": [],
   "source": [
    "from hana_ml.visualizers.eda import *\n",
    "from matplotlib import pyplot as plt"
   ]
  },
  {
   "cell_type": "code",
   "execution_count": null,
   "id": "6a241b0a-f09d-454d-8342-350a1070001b",
   "metadata": {},
   "outputs": [],
   "source": [
    "ax, bar_data = EDAVisualizer().bar_plot(data=hdf_train, column='PClass', aggregation={'PClass':'count'})"
   ]
  },
  {
   "cell_type": "code",
   "execution_count": null,
   "id": "c62ca6e3",
   "metadata": {},
   "outputs": [],
   "source": [
    "ax, pie_data = EDAVisualizer().pie_plot(data=hdf_train, column='PClass')"
   ]
  },
  {
   "attachments": {},
   "cell_type": "markdown",
   "id": "e1277ba7-6dd8-4bdb-a945-726358537020",
   "metadata": {},
   "source": [
    "## Continuous variables evaluation (histograms + boxplots)"
   ]
  },
  {
   "cell_type": "code",
   "execution_count": null,
   "id": "35047a5a-b6c1-448f-8940-1b93c1ebc0c5",
   "metadata": {},
   "outputs": [],
   "source": [
    "numeric_features = ['Age', 'SibSp', 'ParCh', 'Fare']"
   ]
  },
  {
   "cell_type": "code",
   "execution_count": null,
   "id": "ff815ee0-e6ca-4e35-9c06-2ac9864703c6",
   "metadata": {},
   "outputs": [],
   "source": [
    "from hana_ml.visualizers import eda"
   ]
  },
  {
   "cell_type": "code",
   "execution_count": null,
   "id": "87c8ff92-ef28-45dd-9cec-2a2b7ef5c3ed",
   "metadata": {},
   "outputs": [],
   "source": [
    "eda.hist(data=hdf_train.dropna(), columns=['Age', 'SibSp'], default_bins=20)"
   ]
  },
  {
   "cell_type": "code",
   "execution_count": null,
   "id": "955b3353",
   "metadata": {},
   "outputs": [],
   "source": [
    "_, bp = EDAVisualizer().box_plot(\n",
    "    data=hdf_train.dropna(subset=['Age']), column='Age',\n",
    "    legend=False, outliers=True\n",
    ")"
   ]
  },
  {
   "cell_type": "markdown",
   "id": "c108fc6a-a883-47d2-b400-9ff3f88c6b58",
   "metadata": {
    "tags": []
   },
   "source": [
    "#### Output combined charts as one"
   ]
  },
  {
   "cell_type": "code",
   "execution_count": null,
   "id": "2e540eba-7bd8-4111-b8fc-6aaaa36f2f01",
   "metadata": {},
   "outputs": [],
   "source": [
    "fig = plt.figure() #figsize=(10,5))\n",
    "print (fig.figbbox)\n",
    "ax1 = fig.add_subplot(211)\n",
    "eda1 = EDAVisualizer(ax=ax1)\n",
    "ax1, dist_data = eda1.distribution_plot(data=hdf_train.dropna(subset=['Age']), column=\"Age\", bins=30)\n",
    "# plt.show()\n",
    "ax2 = fig.add_subplot(212)\n",
    "eda2 = EDAVisualizer(ax=ax2)\n",
    "ax2, corr_data = eda2.box_plot(data=hdf_train.dropna(subset=['Age']), column='Age', outliers=True)\n"
   ]
  },
  {
   "attachments": {},
   "cell_type": "markdown",
   "id": "aa00d052",
   "metadata": {},
   "source": [
    "## Bivariate Analysis\n",
    "\n",
    "[Bivariate analysis](https://en.wikipedia.org/wiki/Bivariate_analysis) involves the analysis of two variables for the purpose of determining the relationship between them."
   ]
  },
  {
   "attachments": {},
   "cell_type": "markdown",
   "id": "66750503",
   "metadata": {},
   "source": [
    "### Box plot with `group by`"
   ]
  },
  {
   "cell_type": "code",
   "execution_count": null,
   "id": "a3493d61",
   "metadata": {},
   "outputs": [],
   "source": [
    "_ = EDAVisualizer().box_plot(\n",
    "    data=hdf_train.dropna(subset=['Age']), column='Age',\n",
    "    legend=False, outliers=False, groupby='Survived'\n",
    ")"
   ]
  },
  {
   "cell_type": "markdown",
   "id": "61b00cb2",
   "metadata": {},
   "source": [
    "# Multivariate analysis (MVA)\n",
    "\n",
    "[MVA](https://en.wikipedia.org/wiki/Multivariate_statistics#Multivariate_analysis) is used to address the situations where the relations among multiple measurements and their structures are important."
   ]
  },
  {
   "cell_type": "code",
   "execution_count": null,
   "id": "611b6299",
   "metadata": {},
   "outputs": [],
   "source": [
    "EDAVisualizer().correlation_plot(\n",
    "    data=hdf_train, corr_cols=['PClass', 'Fare', 'Age'],\n",
    "    #cmap='bwr'\n",
    ");\n",
    "\n",
    "#Note the use of color pallets, best: diverging colormaps"
   ]
  }
 ],
 "metadata": {
  "kernelspec": {
   "display_name": "Python 3 (ipykernel)",
   "language": "python",
   "name": "python3"
  },
  "language_info": {
   "codemirror_mode": {
    "name": "ipython",
    "version": 3
   },
   "file_extension": ".py",
   "mimetype": "text/x-python",
   "name": "python",
   "nbconvert_exporter": "python",
   "pygments_lexer": "ipython3",
   "version": "3.10.12"
  }
 },
 "nbformat": 4,
 "nbformat_minor": 5
}
